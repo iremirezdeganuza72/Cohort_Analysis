{
 "cells": [
  {
   "cell_type": "markdown",
   "id": "1479bcef",
   "metadata": {},
   "source": [
    "<img src=\"market.png\">"
   ]
  },
  {
   "cell_type": "markdown",
   "id": "0c7eb25a",
   "metadata": {},
   "source": [
    "![prueba](https://raw.githubusercontent.com/iremirezdeganuza72/Cohort_Analysis/main/pictures/market.png)"
   ]
  },
  {
   "cell_type": "code",
   "execution_count": null,
   "id": "5876cb12",
   "metadata": {},
   "outputs": [],
   "source": []
  }
 ],
 "metadata": {
  "kernelspec": {
   "display_name": "Python 3 (ipykernel)",
   "language": "python",
   "name": "python3"
  },
  "language_info": {
   "codemirror_mode": {
    "name": "ipython",
    "version": 3
   },
   "file_extension": ".py",
   "mimetype": "text/x-python",
   "name": "python",
   "nbconvert_exporter": "python",
   "pygments_lexer": "ipython3",
   "version": "3.10.4"
  }
 },
 "nbformat": 4,
 "nbformat_minor": 5
}

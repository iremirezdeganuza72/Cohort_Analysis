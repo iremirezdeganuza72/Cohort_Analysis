{
 "cells": [
  {
   "cell_type": "markdown",
   "id": "864da2b4",
   "metadata": {},
   "source": [
    "<div style=\"color:white;display:fill;border-radius:8px;\n",
    "            background-color:#2a2a2ad9;font-size:190%;\n",
    "            font-family:Segoe UI;letter-spacing:0.5px\">\n",
    "    <p style=\"padding: 8px\n",
    ";color:white;\"><b>MACHINE LEARNIG PREDICTION & COHORT ANALYSIS - HOTEL IN LISBON </b></p>\n",
    "</div>. "
   ]
  },
  {
   "cell_type": "markdown",
   "id": "b1027982",
   "metadata": {},
   "source": [
    "**A cohort** is a group of subjects who share a defining characteristic. We can observe how a cohort behaves across time and compare it to other cohorts. Cohorts are used in medicine, psychology, econometrics, ecology and many other areas to perform a cross-section (compare difference across subjects) at intervals through time.\n",
    "\n",
    "**Types of cohorts**:\n",
    "\n",
    "* **Time Cohorts** are customers who signed up for a product or service during a particular time frame. Analyzing these cohorts shows the customers’ behavior depending on the time they started using the company’s products or services. The time may be monthly or quarterly even daily.\n",
    "* **Behaviour cohorts** are customers who purchased a product or subscribed to a service in the past. It groups customers by the type of product or service they signed up. Customers who signed up for basic level services might have different needs than those who signed up for advanced services. Understaning the needs of the various cohorts can help a company design custom-made services or products for particular segments.\n",
    "* **Size cohorts** refer to the various sizes of customers who purchase company’s products or services. This categorization can be based on the amount of spending in some periodic time after acquisition or the product type that the customer spent most of their order amount in some period of time."
   ]
  },
  {
   "cell_type": "markdown",
   "id": "0589743f",
   "metadata": {},
   "source": [
    "# 1 <span style='color:#DC33FF'>|</span> Import Libraries</b>"
   ]
  },
  {
   "cell_type": "code",
   "execution_count": null,
   "id": "25def302",
   "metadata": {},
   "outputs": [],
   "source": [
    "import numpy as np\n",
    "import pandas as pd\n",
    "import matplotlib.pyplot as plt\n",
    "import datetime as dt\n",
    "import seaborn as sns\n",
    "import os\n",
    "import openpyxl\n",
    "import seaborn as sns\n",
    "from sklearn.impute import SimpleImputer\n",
    "from sklearn.experimental import enable_iterative_imputer\n",
    "from sklearn.impute import IterativeImputer\n",
    "from sklearn.impute import KNNImputer\n",
    "from sklearn.model_selection import train_test_split\n",
    "from sklearn import linear_model\n",
    "from sklearn.linear_model import Lasso, Ridge\n",
    "from sklearn.linear_model import LinearRegression\n",
    "from sklearn.pipeline import Pipeline\n",
    "from sklearn.preprocessing import PolynomialFeatures\n",
    "from sklearn.svm import SVR\n",
    "from sklearn.linear_model import SGDRegressor\n",
    "from sklearn.ensemble import RandomForestRegressor\n",
    "from sklearn.metrics import mean_squared_error as mse"
   ]
  },
  {
   "cell_type": "markdown",
   "id": "b84ccdee",
   "metadata": {},
   "source": [
    "# <b>2 <span style='color:#DC33FF'>|</span> Reading Data</b>"
   ]
  },
  {
   "cell_type": "code",
   "execution_count": null,
   "id": "c8bd6b25",
   "metadata": {},
   "outputs": [],
   "source": [
    "df = pd.read_excel(\"HotelCustomersDataset.xlsx\")"
   ]
  },
  {
   "cell_type": "markdown",
   "id": "9dc45233",
   "metadata": {},
   "source": [
    "# <b>3 <span style='color:#DC33FF'>|</span> Explore Data & Data Preprocessing</b>"
   ]
  },
  {
   "cell_type": "markdown",
   "id": "7577e185",
   "metadata": {},
   "source": [
    "It is displayed the first 10 rows of dataset."
   ]
  },
  {
   "cell_type": "code",
   "execution_count": null,
   "id": "d7815799",
   "metadata": {},
   "outputs": [],
   "source": [
    "df.head(10)"
   ]
  },
  {
   "cell_type": "markdown",
   "id": "4a635f15",
   "metadata": {},
   "source": [
    "It is displayed all the rows of dataset."
   ]
  },
  {
   "cell_type": "code",
   "execution_count": null,
   "id": "d8246478",
   "metadata": {},
   "outputs": [],
   "source": [
    "display(df)"
   ]
  },
  {
   "cell_type": "markdown",
   "id": "f2043e93",
   "metadata": {},
   "source": [
    "The dataset contains 83590 instances (customers) and 31 variables. "
   ]
  },
  {
   "cell_type": "code",
   "execution_count": null,
   "id": "6c2b8af0",
   "metadata": {},
   "outputs": [],
   "source": [
    "df.shape"
   ]
  },
  {
   "cell_type": "markdown",
   "id": "4bdfb21c",
   "metadata": {},
   "source": [
    "The different variables are the following ones;"
   ]
  },
  {
   "cell_type": "code",
   "execution_count": null,
   "id": "7c0776eb",
   "metadata": {},
   "outputs": [],
   "source": [
    "df.columns"
   ]
  },
  {
   "cell_type": "markdown",
   "id": "daa5d9ef",
   "metadata": {},
   "source": [
    "There are a total of 80 duplicated instances."
   ]
  },
  {
   "cell_type": "code",
   "execution_count": null,
   "id": "3f1c597a",
   "metadata": {},
   "outputs": [],
   "source": [
    "df.duplicated(subset=['Nationality', 'Age', 'DaysSinceCreation', 'NameHash',\n",
    "       'DocIDHash', 'AverageLeadTime', 'LodgingRevenue', 'OtherRevenue',\n",
    "       'BookingsCanceled', 'BookingsNoShowed', 'BookingsCheckedIn',\n",
    "       'PersonsNights', 'RoomNights', 'DaysSinceLastStay',\n",
    "       'DaysSinceFirstStay', 'DistributionChannel', 'MarketSegment',\n",
    "       'SRHighFloor', 'SRLowFloor', 'SRAccessibleRoom', 'SRMediumFloor',\n",
    "       'SRBathtub', 'SRShower', 'SRCrib', 'SRKingSizeBed', 'SRTwinBed',\n",
    "       'SRNearElevator', 'SRAwayFromElevator', 'SRNoAlcoholInMiniBar',\n",
    "       'SRQuietRoom']).sum()"
   ]
  },
  {
   "cell_type": "code",
   "execution_count": null,
   "id": "31383792",
   "metadata": {},
   "outputs": [],
   "source": [
    "df[df.duplicated(subset=['Nationality', 'Age', 'DaysSinceCreation', 'NameHash',\n",
    "       'DocIDHash', 'AverageLeadTime', 'LodgingRevenue', 'OtherRevenue',\n",
    "       'BookingsCanceled', 'BookingsNoShowed', 'BookingsCheckedIn',\n",
    "       'PersonsNights', 'RoomNights', 'DaysSinceLastStay',\n",
    "       'DaysSinceFirstStay', 'DistributionChannel', 'MarketSegment',\n",
    "       'SRHighFloor', 'SRLowFloor', 'SRAccessibleRoom', 'SRMediumFloor',\n",
    "       'SRBathtub', 'SRShower', 'SRCrib', 'SRKingSizeBed', 'SRTwinBed',\n",
    "       'SRNearElevator', 'SRAwayFromElevator', 'SRNoAlcoholInMiniBar',\n",
    "       'SRQuietRoom'], keep= False)]"
   ]
  },
  {
   "cell_type": "markdown",
   "id": "e492a527",
   "metadata": {},
   "source": [
    "As there are 80 duplicated instances with matching data in all categories, we will remove them because they do not provide extra information and they are redundant records."
   ]
  },
  {
   "cell_type": "code",
   "execution_count": null,
   "id": "6dd1d204",
   "metadata": {},
   "outputs": [],
   "source": [
    "df=df.drop_duplicates()"
   ]
  },
  {
   "cell_type": "code",
   "execution_count": null,
   "id": "4ee1eec4",
   "metadata": {},
   "outputs": [],
   "source": [
    "df.shape"
   ]
  },
  {
   "cell_type": "markdown",
   "id": "a4f27595",
   "metadata": {},
   "source": [
    "I will check if there are nulls."
   ]
  },
  {
   "cell_type": "code",
   "execution_count": null,
   "id": "2e0d999e",
   "metadata": {},
   "outputs": [],
   "source": [
    "df.isna().sum()"
   ]
  },
  {
   "cell_type": "markdown",
   "id": "4868341b",
   "metadata": {},
   "source": [
    "Check which percentages are null over the totality of the data."
   ]
  },
  {
   "cell_type": "code",
   "execution_count": null,
   "id": "3c2b2002",
   "metadata": {},
   "outputs": [],
   "source": [
    "100*df.isna().sum()/df.shape[0]"
   ]
  },
  {
   "cell_type": "code",
   "execution_count": null,
   "id": "1b2540a7",
   "metadata": {
    "scrolled": true
   },
   "outputs": [],
   "source": [
    "plt.figure(figsize = (15,8))\n",
    "sns.heatmap(df.isnull().sort_values(by=\"Age\"))"
   ]
  },
  {
   "cell_type": "code",
   "execution_count": null,
   "id": "4a2060bf",
   "metadata": {},
   "outputs": [],
   "source": [
    "df.describe()"
   ]
  },
  {
   "cell_type": "markdown",
   "id": "ef91aeb7",
   "metadata": {},
   "source": [
    "As the percentage of nulls is 4.5% over the total data, I will remove them, because it will not affect our data and to our analysis.\n",
    "\n",
    "Besides, I checked that in the variable **\"Age\"**, minimum age is -11 years old. Definition: Customer's age (in years) at the last day of the extraction period. So, I will proceed to eliminate not only the nulls registers but also those whose value is negative."
   ]
  },
  {
   "cell_type": "code",
   "execution_count": null,
   "id": "a152afbf",
   "metadata": {
    "scrolled": true
   },
   "outputs": [],
   "source": [
    "df=df.dropna(subset=['Age'])"
   ]
  },
  {
   "cell_type": "code",
   "execution_count": null,
   "id": "85e8f0ad",
   "metadata": {},
   "outputs": [],
   "source": [
    "df.isna().sum()"
   ]
  },
  {
   "cell_type": "code",
   "execution_count": null,
   "id": "e93baae4",
   "metadata": {},
   "outputs": [],
   "source": [
    "df = df[df['Age'] > 0]"
   ]
  },
  {
   "cell_type": "code",
   "execution_count": null,
   "id": "a49d6348",
   "metadata": {},
   "outputs": [],
   "source": [
    "df.describe()"
   ]
  },
  {
   "cell_type": "markdown",
   "id": "23803141",
   "metadata": {},
   "source": [
    "On the other hand, there is another inconsistent data. The minimum **\"AvergagedLeadTime\"** is -1, so it has not sense for this variable. Definition: The average number of days elapsed between the customer's booking date and arrival date. In other words, this variable is calculated by dividing the sum of the number of days elapsed between the moment each booking was made and its arrival date, by the total of bookings made by the customer.\n",
    "\n",
    "I will proceed to eliminate those negative registers."
   ]
  },
  {
   "cell_type": "code",
   "execution_count": null,
   "id": "25e4c2d9",
   "metadata": {},
   "outputs": [],
   "source": [
    "df = df[df['AverageLeadTime'] >= 0] "
   ]
  },
  {
   "cell_type": "code",
   "execution_count": null,
   "id": "e1f85709",
   "metadata": {},
   "outputs": [],
   "source": [
    "df.describe()"
   ]
  },
  {
   "cell_type": "markdown",
   "id": "a4ff3ff1",
   "metadata": {},
   "source": [
    "Ordeno la tabla por DaysSinceCreation."
   ]
  },
  {
   "cell_type": "code",
   "execution_count": null,
   "id": "84fbb9a1",
   "metadata": {},
   "outputs": [],
   "source": [
    "df.groupby(\"DaysSinceCreation\", group_keys=True).apply(lambda x: x)"
   ]
  },
  {
   "cell_type": "code",
   "execution_count": null,
   "id": "09de9377",
   "metadata": {
    "scrolled": true
   },
   "outputs": [],
   "source": [
    "df.nunique()"
   ]
  },
  {
   "cell_type": "markdown",
   "id": "2fd47456",
   "metadata": {},
   "source": [
    "Elimino las features \"ID\", \"NameHash\" y \"DocIDHash\", ya que no son importantes para el estudio del modelo de ML."
   ]
  },
  {
   "cell_type": "code",
   "execution_count": null,
   "id": "b174ae8b",
   "metadata": {},
   "outputs": [],
   "source": [
    "df1 = df.drop(['ID', 'NameHash', 'DocIDHash'], axis=1)"
   ]
  },
  {
   "cell_type": "code",
   "execution_count": null,
   "id": "e2c95994",
   "metadata": {},
   "outputs": [],
   "source": [
    "df1.head(15)"
   ]
  },
  {
   "cell_type": "code",
   "execution_count": null,
   "id": "45210566",
   "metadata": {
    "scrolled": true
   },
   "outputs": [],
   "source": [
    "df1.dtypes"
   ]
  },
  {
   "cell_type": "markdown",
   "id": "dbd0e47e",
   "metadata": {},
   "source": [
    "There are 187 source markets, with the top 20 markets are included more than 90% of the instances (customers). In order to realize a one hot encoder it is necessary to reduce the dimensionality of the database with the less important markets."
   ]
  },
  {
   "cell_type": "code",
   "execution_count": null,
   "id": "a59132af",
   "metadata": {},
   "outputs": [],
   "source": [
    "df1['Nationality'].nunique()"
   ]
  },
  {
   "cell_type": "code",
   "execution_count": null,
   "id": "d1446d6a",
   "metadata": {},
   "outputs": [],
   "source": [
    "top_20_markets = df1['Nationality'].value_counts().head(20)\n",
    "names = top_20_markets.keys()"
   ]
  },
  {
   "cell_type": "code",
   "execution_count": null,
   "id": "9aae5f2d",
   "metadata": {},
   "outputs": [],
   "source": [
    "top_20_markets"
   ]
  },
  {
   "cell_type": "code",
   "execution_count": null,
   "id": "6a639e7a",
   "metadata": {},
   "outputs": [],
   "source": [
    "names"
   ]
  },
  {
   "cell_type": "code",
   "execution_count": null,
   "id": "6b711ef5",
   "metadata": {},
   "outputs": [],
   "source": [
    "top_20_markets.sum()"
   ]
  },
  {
   "cell_type": "code",
   "execution_count": null,
   "id": "801f8ceb",
   "metadata": {},
   "outputs": [],
   "source": [
    "df1['Nationality'].value_counts().sum()"
   ]
  },
  {
   "cell_type": "code",
   "execution_count": null,
   "id": "f3cae231",
   "metadata": {},
   "outputs": [],
   "source": [
    "perc_top_20_markets = (top_20_markets.sum() / df1['Nationality'].value_counts().sum())*100"
   ]
  },
  {
   "cell_type": "code",
   "execution_count": null,
   "id": "ac01240f",
   "metadata": {},
   "outputs": [],
   "source": [
    "perc_top_20_markets "
   ]
  },
  {
   "cell_type": "code",
   "execution_count": null,
   "id": "131d7caf",
   "metadata": {},
   "outputs": [],
   "source": [
    "plt.figure(figsize=(20,15))\n",
    "plt.pie(top_20_markets, labels=names, autopct=\"%0.1f %%\")\n",
    "plt.show()"
   ]
  },
  {
   "cell_type": "code",
   "execution_count": null,
   "id": "c29b0c6a",
   "metadata": {},
   "outputs": [],
   "source": [
    "num_of_countries = df['Nationality'].nunique()\n",
    "print('The number of source markets before preprocessing is %s' %num_of_countries)"
   ]
  },
  {
   "cell_type": "code",
   "execution_count": null,
   "id": "153e7bb4",
   "metadata": {},
   "outputs": [],
   "source": [
    "df1.Nationality"
   ]
  },
  {
   "cell_type": "code",
   "execution_count": null,
   "id": "12c5d80b",
   "metadata": {},
   "outputs": [],
   "source": [
    "df1 = df1[df1['Age'] < 100]\n",
    "df1"
   ]
  },
  {
   "cell_type": "code",
   "execution_count": null,
   "id": "fc52c6c4",
   "metadata": {
    "scrolled": true
   },
   "outputs": [],
   "source": [
    "names_top20 = df1.groupby('Nationality').count().sort_values(by = 'Age', ascending = False)\n",
    "top_20_source_market = list(names_top20[names_top20['Age'] < 724]['Age'].keys())\n",
    "\n",
    "for i in top_20_source_market:\n",
    "    df1['Nationality'] = df1['Nationality'].str.replace(i,'')\n",
    "    \n",
    "print('The number of top source markets after deleting those with less than 724 instances is: %s' %df1['Nationality'].nunique())"
   ]
  },
  {
   "cell_type": "markdown",
   "id": "1f6f7605",
   "metadata": {},
   "source": [
    "I create new features, by combining the existing features given in the dataset;\n",
    "\n",
    "* **Total Revenue** It is the addition of LodingRevenue and OtherRevenue.\n",
    "* **ADR (Average Daily Rate)** A hotel's average daily rate (ADR) is the average price guests pay for rooms. It can be measured on a given night or over a specific period of time, such as a month or a year.\n",
    "* **ALOS (Average length of stay)** refers to the number of nights guests stay on average over a given period of time, usually a month or a year."
   ]
  },
  {
   "cell_type": "code",
   "execution_count": null,
   "id": "77a0e523",
   "metadata": {},
   "outputs": [],
   "source": [
    "df1['TotalRevenue'] = df1['LodgingRevenue'] + df1['OtherRevenue']"
   ]
  },
  {
   "cell_type": "code",
   "execution_count": null,
   "id": "3bbd8fe6",
   "metadata": {},
   "outputs": [],
   "source": [
    "df1.groupby('TotalRevenue')['Nationality'].unique().str[0]"
   ]
  },
  {
   "cell_type": "code",
   "execution_count": null,
   "id": "e8840e0e",
   "metadata": {},
   "outputs": [],
   "source": [
    "df1[\"ADR\"] = df1[\"LodgingRevenue\"]/df1[\"RoomNights\"]"
   ]
  },
  {
   "cell_type": "code",
   "execution_count": null,
   "id": "c4664fdb",
   "metadata": {},
   "outputs": [],
   "source": [
    "df1[\"ADR\"]"
   ]
  },
  {
   "cell_type": "code",
   "execution_count": null,
   "id": "65ae23f6",
   "metadata": {},
   "outputs": [],
   "source": [
    "df1[\"ALOS\"]= df1[\"RoomNights\"]/df1[\"BookingsCheckedIn\"]"
   ]
  },
  {
   "cell_type": "code",
   "execution_count": null,
   "id": "d89ff7b0",
   "metadata": {
    "scrolled": false
   },
   "outputs": [],
   "source": [
    "df1[\"ALOS\"]"
   ]
  },
  {
   "cell_type": "markdown",
   "id": "9d79ab97",
   "metadata": {},
   "source": [
    "**I delete the nulls of columns \"ADR\" & \"ALOS\"**;"
   ]
  },
  {
   "cell_type": "markdown",
   "id": "70525c41",
   "metadata": {},
   "source": [
    "df1=df1.dropna(subset=['ADR','ALOS'])"
   ]
  },
  {
   "cell_type": "markdown",
   "id": "a7fa05df",
   "metadata": {},
   "source": [
    "df1.dtypes"
   ]
  },
  {
   "cell_type": "code",
   "execution_count": null,
   "id": "022ee587",
   "metadata": {},
   "outputs": [],
   "source": [
    "display(df1)"
   ]
  },
  {
   "cell_type": "code",
   "execution_count": null,
   "id": "11649c70",
   "metadata": {},
   "outputs": [],
   "source": [
    "df1.isna().sum()"
   ]
  },
  {
   "cell_type": "markdown",
   "id": "1bc62766",
   "metadata": {},
   "source": [
    "df1.dropna()"
   ]
  },
  {
   "cell_type": "markdown",
   "id": "b3eacf01",
   "metadata": {},
   "source": [
    "# <b>4 <span style='color:#DC33FF'>|</span> OneHotEncoding</b>"
   ]
  },
  {
   "cell_type": "markdown",
   "id": "035e7d5b",
   "metadata": {},
   "source": [
    "En este dataset, las características categóricas son las correspondientes a los tipos \"object\". Extraemos la lista de estas características usando el método select_dtypes de pandas."
   ]
  },
  {
   "cell_type": "code",
   "execution_count": null,
   "id": "0f738efa",
   "metadata": {
    "scrolled": true
   },
   "outputs": [],
   "source": [
    "cat_features = df1.select_dtypes(include = [\"object\"]).columns\n",
    "cat_features"
   ]
  },
  {
   "cell_type": "code",
   "execution_count": null,
   "id": "8daa1297",
   "metadata": {},
   "outputs": [],
   "source": [
    "cat_df1 = pd.get_dummies(df1[cat_features], drop_first = True)\n",
    "cat_df1.head()"
   ]
  },
  {
   "cell_type": "markdown",
   "id": "a6614c6d",
   "metadata": {},
   "source": [
    "* drop_first = True, que elimina la primera de las columnas generadas para cada característica con el objetivo de evitar la colinealidad (que una de las columnas sea combinación lineal de las demás)"
   ]
  },
  {
   "cell_type": "markdown",
   "id": "70a91ff3",
   "metadata": {},
   "source": [
    "Ahora, basta eliminar las características originales:"
   ]
  },
  {
   "cell_type": "code",
   "execution_count": null,
   "id": "44e0591d",
   "metadata": {},
   "outputs": [],
   "source": [
    "df1.drop(cat_features, axis = 1, inplace = True)"
   ]
  },
  {
   "cell_type": "markdown",
   "id": "662ccebb",
   "metadata": {},
   "source": [
    "Y procecemos a concatenar el dataframe resultante con el dataframe que hemos generado con las características \"dummies\":"
   ]
  },
  {
   "cell_type": "code",
   "execution_count": null,
   "id": "2b6c0e6d",
   "metadata": {},
   "outputs": [],
   "source": [
    "df1 = pd.concat([df1, cat_df1], axis = 1)"
   ]
  },
  {
   "cell_type": "code",
   "execution_count": null,
   "id": "43c5b17a",
   "metadata": {},
   "outputs": [],
   "source": [
    "print(df1.columns.tolist())\n",
    "type(df1.columns.tolist())"
   ]
  },
  {
   "cell_type": "code",
   "execution_count": null,
   "id": "e99206d2",
   "metadata": {},
   "outputs": [],
   "source": [
    "df1.dtypes"
   ]
  },
  {
   "cell_type": "markdown",
   "id": "668ca208",
   "metadata": {},
   "source": [
    "imputer = KNNImputer(n_neighbors=1, weights=\"distance\")\n",
    "df1 = pd.DataFrame(imputer.fit_transform(df1), columns = ['Age', 'DaysSinceCreation', 'AverageLeadTime', 'LodgingRevenue',\n",
    "       'OtherRevenue', 'BookingsCanceled', 'BookingsNoShowed',\n",
    "       'BookingsCheckedIn', 'PersonsNights', 'RoomNights', 'DaysSinceLastStay',\n",
    "       'DaysSinceFirstStay', 'SRHighFloor', 'SRLowFloor', 'SRAccessibleRoom',\n",
    "       'SRMediumFloor', 'SRBathtub', 'SRShower', 'SRCrib', 'SRKingSizeBed',\n",
    "       'SRTwinBed', 'SRNearElevator', 'SRAwayFromElevator',\n",
    "       'SRNoAlcoholInMiniBar', 'SRQuietRoom', 'TotalRevenue', 'ADR', 'ALOS',\n",
    "       'Nationality_AUT', 'Nationality_BEL', 'Nationality_BRA',\n",
    "       'Nationality_CAN', 'Nationality_CHE', 'Nationality_CHN',\n",
    "       'Nationality_DEU', 'Nationality_ESP', 'Nationality_FRA',\n",
    "       'Nationality_GBR', 'Nationality_IRL', 'Nationality_ISR',\n",
    "       'Nationality_ITA', 'Nationality_NLD', 'Nationality_NOR',\n",
    "       'Nationality_POL', 'Nationality_PRT', 'Nationality_SWE',\n",
    "       'Nationality_USA', 'DistributionChannel_Direct',\n",
    "       'DistributionChannel_Electronic Distribution',\n",
    "       'DistributionChannel_Travel Agent/Operator',\n",
    "       'MarketSegment_Complementary', 'MarketSegment_Corporate',\n",
    "       'MarketSegment_Direct', 'MarketSegment_Groups', 'MarketSegment_Other',\n",
    "       'MarketSegment_Travel Agent/Operator'])\n",
    "df1"
   ]
  },
  {
   "cell_type": "code",
   "execution_count": null,
   "id": "a8cf295d",
   "metadata": {},
   "outputs": [],
   "source": [
    "imp = SimpleImputer(missing_values=np.nan, strategy =\"most_frequent\")\n",
    "imp.fit(df1)\n",
    "df1 = pd.DataFrame(imp.transform(df1), columns = ['Age', 'DaysSinceCreation', 'AverageLeadTime', 'LodgingRevenue',\n",
    "       'OtherRevenue', 'BookingsCanceled', 'BookingsNoShowed',\n",
    "       'BookingsCheckedIn', 'PersonsNights', 'RoomNights', 'DaysSinceLastStay',\n",
    "       'DaysSinceFirstStay', 'SRHighFloor', 'SRLowFloor', 'SRAccessibleRoom',\n",
    "       'SRMediumFloor', 'SRBathtub', 'SRShower', 'SRCrib', 'SRKingSizeBed',\n",
    "       'SRTwinBed', 'SRNearElevator', 'SRAwayFromElevator',\n",
    "       'SRNoAlcoholInMiniBar', 'SRQuietRoom', 'TotalRevenue', 'ADR', 'ALOS',\n",
    "       'Nationality_AUT', 'Nationality_BEL', 'Nationality_BRA',\n",
    "       'Nationality_CAN', 'Nationality_CHE', 'Nationality_CHN',\n",
    "       'Nationality_DEU', 'Nationality_ESP', 'Nationality_FRA',\n",
    "       'Nationality_GBR', 'Nationality_IRL', 'Nationality_ISR',\n",
    "       'Nationality_ITA', 'Nationality_NLD', 'Nationality_NOR',\n",
    "       'Nationality_POL', 'Nationality_PRT', 'Nationality_SWE',\n",
    "       'Nationality_USA', 'DistributionChannel_Direct',\n",
    "       'DistributionChannel_Electronic Distribution',\n",
    "       'DistributionChannel_Travel Agent/Operator',\n",
    "       'MarketSegment_Complementary', 'MarketSegment_Corporate',\n",
    "       'MarketSegment_Direct', 'MarketSegment_Groups', 'MarketSegment_Other',\n",
    "       'MarketSegment_Travel Agent/Operator'])\n",
    "df1"
   ]
  },
  {
   "cell_type": "code",
   "execution_count": null,
   "id": "c000cd9c",
   "metadata": {},
   "outputs": [],
   "source": [
    "df.isna().sum()"
   ]
  },
  {
   "cell_type": "markdown",
   "id": "e690fc11",
   "metadata": {},
   "source": [
    "# <b>5 <span style='color:#DC33FF'>|</span> Defining X, y</b>"
   ]
  },
  {
   "cell_type": "code",
   "execution_count": null,
   "id": "905fd89b",
   "metadata": {},
   "outputs": [],
   "source": [
    "y = df1[\"AverageLeadTime\"]\n",
    "X = df1.drop(columns=[\"AverageLeadTime\"])"
   ]
  },
  {
   "cell_type": "code",
   "execution_count": null,
   "id": "aa8e5191",
   "metadata": {},
   "outputs": [],
   "source": [
    "X"
   ]
  },
  {
   "cell_type": "code",
   "execution_count": null,
   "id": "93686619",
   "metadata": {
    "scrolled": true
   },
   "outputs": [],
   "source": [
    "y"
   ]
  },
  {
   "cell_type": "code",
   "execution_count": null,
   "id": "7e6a4ae8",
   "metadata": {},
   "outputs": [],
   "source": [
    "sns.pairplot(pd.concat([X, y], axis=1))"
   ]
  },
  {
   "cell_type": "markdown",
   "id": "8ebf226e",
   "metadata": {},
   "source": [
    "# <b>6 <span style='color:#DC33FF'>|</span> Train Test Split</b>"
   ]
  },
  {
   "cell_type": "code",
   "execution_count": null,
   "id": "350aca6b",
   "metadata": {},
   "outputs": [],
   "source": [
    "X_train, X_test, y_train, y_test = train_test_split(X, y, train_size=0.8)"
   ]
  },
  {
   "cell_type": "code",
   "execution_count": null,
   "id": "7f3702bc",
   "metadata": {},
   "outputs": [],
   "source": [
    "X_train.shape, X_test.shape, y_train.shape, y_test.shape"
   ]
  },
  {
   "cell_type": "code",
   "execution_count": null,
   "id": "1954d682",
   "metadata": {},
   "outputs": [],
   "source": [
    "X_train"
   ]
  },
  {
   "cell_type": "code",
   "execution_count": null,
   "id": "ba917125",
   "metadata": {},
   "outputs": [],
   "source": [
    "y_train"
   ]
  },
  {
   "cell_type": "markdown",
   "id": "21efe815",
   "metadata": {},
   "source": [
    "# <b>7 <span style='color:#DC33FF'>|</span> Trying different models</b>"
   ]
  },
  {
   "cell_type": "code",
   "execution_count": null,
   "id": "cf281523",
   "metadata": {},
   "outputs": [],
   "source": [
    "models = {\n",
    "    \"LinearRegression\":LinearRegression(),\n",
    "    \"Poly_2\":Pipeline([(\"poly_features\", PolynomialFeatures(degree=2)),\n",
    "                       (\"linear_regression\", LinearRegression())]), \n",
    "    \"Lasso\": Lasso(alpha=1),\n",
    "    \"Ridge\": Ridge(alpha=1),\n",
    "    \"Support Vector Machine\": SVR(),\n",
    "    \"SGD\": SGDRegressor(max_iter=10000),\n",
    "    \"Random Forest\": RandomForestRegressor(),\n",
    "}"
   ]
  },
  {
   "cell_type": "code",
   "execution_count": null,
   "id": "5205b54c",
   "metadata": {},
   "outputs": [],
   "source": [
    "results_train = {}\n",
    "results_test = {}\n",
    "\n",
    "for name, model in models.items():\n",
    "    print(f\"Training {name}\")\n",
    "    model.fit(X_train, y_train)\n",
    "    results_train[name] = mse(y_train, model.predict(X_train))**5\n",
    "    results_test[name] = mse(y_test, model.predict(X_test))**5"
   ]
  },
  {
   "cell_type": "code",
   "execution_count": null,
   "id": "22c8ee64",
   "metadata": {},
   "outputs": [],
   "source": [
    "results_train"
   ]
  },
  {
   "cell_type": "code",
   "execution_count": null,
   "id": "a4a46b32",
   "metadata": {},
   "outputs": [],
   "source": [
    "results_test"
   ]
  },
  {
   "cell_type": "code",
   "execution_count": null,
   "id": "5dc0f454",
   "metadata": {},
   "outputs": [],
   "source": []
  },
  {
   "cell_type": "code",
   "execution_count": null,
   "id": "d7f4b468",
   "metadata": {},
   "outputs": [],
   "source": []
  },
  {
   "cell_type": "code",
   "execution_count": null,
   "id": "5e4cf740",
   "metadata": {},
   "outputs": [],
   "source": []
  },
  {
   "cell_type": "code",
   "execution_count": null,
   "id": "bec76f5e",
   "metadata": {},
   "outputs": [],
   "source": []
  },
  {
   "cell_type": "code",
   "execution_count": null,
   "id": "188531e5",
   "metadata": {},
   "outputs": [],
   "source": []
  },
  {
   "cell_type": "code",
   "execution_count": null,
   "id": "a933f4dc",
   "metadata": {},
   "outputs": [],
   "source": []
  },
  {
   "cell_type": "code",
   "execution_count": null,
   "id": "15f7ea2a",
   "metadata": {},
   "outputs": [],
   "source": []
  },
  {
   "cell_type": "code",
   "execution_count": null,
   "id": "a19805de",
   "metadata": {},
   "outputs": [],
   "source": []
  },
  {
   "cell_type": "code",
   "execution_count": null,
   "id": "ba8ef1f7",
   "metadata": {},
   "outputs": [],
   "source": []
  },
  {
   "cell_type": "code",
   "execution_count": null,
   "id": "272ac2e1",
   "metadata": {},
   "outputs": [],
   "source": []
  },
  {
   "cell_type": "code",
   "execution_count": null,
   "id": "d8cf7718",
   "metadata": {},
   "outputs": [],
   "source": []
  },
  {
   "cell_type": "code",
   "execution_count": null,
   "id": "c1aa48b5",
   "metadata": {},
   "outputs": [],
   "source": []
  },
  {
   "cell_type": "code",
   "execution_count": null,
   "id": "8db4e0c1",
   "metadata": {},
   "outputs": [],
   "source": []
  },
  {
   "cell_type": "code",
   "execution_count": null,
   "id": "3e130656",
   "metadata": {},
   "outputs": [],
   "source": []
  },
  {
   "cell_type": "code",
   "execution_count": null,
   "id": "40c5de5c",
   "metadata": {},
   "outputs": [],
   "source": []
  },
  {
   "cell_type": "code",
   "execution_count": null,
   "id": "37615202",
   "metadata": {},
   "outputs": [],
   "source": []
  },
  {
   "cell_type": "code",
   "execution_count": null,
   "id": "71157bdc",
   "metadata": {},
   "outputs": [],
   "source": []
  },
  {
   "cell_type": "markdown",
   "id": "dd95a318",
   "metadata": {},
   "source": [
    "models = {\n",
    "    \"LinearRegression\":LinearRegression(),\n",
    "    \"Poly_2\":Pipeline([(\"poly_features\", PolynomialFeatures(degree=2)),\n",
    "                       (\"linear_regression\", LinearRegression())]),\n",
    "    \"Poly_3\":Pipeline([(\"poly_features\", PolynomialFeatures(degree=3)),\n",
    "                       (\"linear_regression\", LinearRegression())]),   \n",
    "    \"Poly_4\":Pipeline([(\"poly_features\", PolynomialFeatures(degree=4)),\n",
    "                       (\"linear_regression\", LinearRegression())]),     \n",
    "    \"Poly_5\":Pipeline([(\"poly_features\", PolynomialFeatures(degree=5)),\n",
    "                       (\"linear_regression\", LinearRegression())]),\n",
    "    \"Lasso\": Lasso(alpha=1),\n",
    "    \"Ridge\": Ridge(alpha=1),\n",
    "    \"Support Vector Machine\": SVR(),\n",
    "    \"SGD\": SGDRegressor(max_iter=10000),\n",
    "    \"Random Forrest\": RandomForestRegressor(),\n",
    "    \"Polynomial_dg_2_Lasso\": Pipeline([(\"poly\", PolynomialFeatures(degree=3)),\n",
    "                                      (\"Lasso\", Lasso (alpha=10))]),  \n",
    "}"
   ]
  },
  {
   "cell_type": "markdown",
   "id": "76f16012",
   "metadata": {},
   "source": [
    "results_train = {}\n",
    "results_test = {}\n",
    "\n",
    "for name, model in models.items():\n",
    "    print(f\"Training {name}\")\n",
    "    model.fit(X_train, y_train)\n",
    "    results_train[name] = mse(y_train, model.predict(X_train))**5\n",
    "    results_test[name] = mse(y_test, model.predict(X_test))**5"
   ]
  },
  {
   "cell_type": "markdown",
   "id": "cc1f88f3",
   "metadata": {},
   "source": [
    "results_train"
   ]
  },
  {
   "cell_type": "markdown",
   "id": "8970ad69",
   "metadata": {},
   "source": [
    "results_test"
   ]
  },
  {
   "cell_type": "code",
   "execution_count": null,
   "id": "f49cee39",
   "metadata": {},
   "outputs": [],
   "source": []
  },
  {
   "cell_type": "code",
   "execution_count": null,
   "id": "88e1690e",
   "metadata": {},
   "outputs": [],
   "source": []
  },
  {
   "cell_type": "code",
   "execution_count": null,
   "id": "3ccbee7f",
   "metadata": {},
   "outputs": [],
   "source": []
  },
  {
   "cell_type": "code",
   "execution_count": null,
   "id": "826ec5be",
   "metadata": {},
   "outputs": [],
   "source": []
  },
  {
   "cell_type": "code",
   "execution_count": null,
   "id": "fbf06e7b",
   "metadata": {},
   "outputs": [],
   "source": []
  },
  {
   "cell_type": "code",
   "execution_count": null,
   "id": "9322c2dc",
   "metadata": {},
   "outputs": [],
   "source": []
  },
  {
   "cell_type": "code",
   "execution_count": null,
   "id": "48173144",
   "metadata": {},
   "outputs": [],
   "source": []
  },
  {
   "cell_type": "code",
   "execution_count": null,
   "id": "ab584e52",
   "metadata": {},
   "outputs": [],
   "source": []
  },
  {
   "cell_type": "code",
   "execution_count": null,
   "id": "f002bfda",
   "metadata": {},
   "outputs": [],
   "source": []
  },
  {
   "cell_type": "code",
   "execution_count": null,
   "id": "cd53b1fb",
   "metadata": {},
   "outputs": [],
   "source": []
  },
  {
   "cell_type": "code",
   "execution_count": null,
   "id": "1ff30906",
   "metadata": {},
   "outputs": [],
   "source": []
  },
  {
   "cell_type": "code",
   "execution_count": null,
   "id": "6ed07bc1",
   "metadata": {},
   "outputs": [],
   "source": []
  },
  {
   "cell_type": "code",
   "execution_count": null,
   "id": "92f7bc8e",
   "metadata": {},
   "outputs": [],
   "source": []
  },
  {
   "cell_type": "code",
   "execution_count": null,
   "id": "e6746ebb",
   "metadata": {},
   "outputs": [],
   "source": []
  },
  {
   "cell_type": "code",
   "execution_count": null,
   "id": "5c1bd969",
   "metadata": {},
   "outputs": [],
   "source": []
  },
  {
   "cell_type": "code",
   "execution_count": null,
   "id": "a75b499b",
   "metadata": {},
   "outputs": [],
   "source": []
  },
  {
   "cell_type": "code",
   "execution_count": null,
   "id": "eb1f0bd7",
   "metadata": {},
   "outputs": [],
   "source": []
  },
  {
   "cell_type": "code",
   "execution_count": 324,
   "id": "d238473b",
   "metadata": {},
   "outputs": [
    {
     "data": {
      "text/html": [
       "<div>\n",
       "<style scoped>\n",
       "    .dataframe tbody tr th:only-of-type {\n",
       "        vertical-align: middle;\n",
       "    }\n",
       "\n",
       "    .dataframe tbody tr th {\n",
       "        vertical-align: top;\n",
       "    }\n",
       "\n",
       "    .dataframe thead th {\n",
       "        text-align: right;\n",
       "    }\n",
       "</style>\n",
       "<table border=\"1\" class=\"dataframe\">\n",
       "  <thead>\n",
       "    <tr style=\"text-align: right;\">\n",
       "      <th></th>\n",
       "      <th>Nationality</th>\n",
       "      <th>Age</th>\n",
       "      <th>DaysSinceCreation</th>\n",
       "      <th>LodgingRevenue</th>\n",
       "      <th>OtherRevenue</th>\n",
       "      <th>BookingsCanceled</th>\n",
       "      <th>BookingsNoShowed</th>\n",
       "      <th>BookingsCheckedIn</th>\n",
       "      <th>PersonsNights</th>\n",
       "      <th>RoomNights</th>\n",
       "      <th>...</th>\n",
       "      <th>SRMediumFloor</th>\n",
       "      <th>SRBathtub</th>\n",
       "      <th>SRShower</th>\n",
       "      <th>SRCrib</th>\n",
       "      <th>SRKingSizeBed</th>\n",
       "      <th>SRTwinBed</th>\n",
       "      <th>SRNearElevator</th>\n",
       "      <th>SRAwayFromElevator</th>\n",
       "      <th>SRNoAlcoholInMiniBar</th>\n",
       "      <th>SRQuietRoom</th>\n",
       "    </tr>\n",
       "  </thead>\n",
       "  <tbody>\n",
       "    <tr>\n",
       "      <th>29254</th>\n",
       "      <td>FRA</td>\n",
       "      <td>50.0</td>\n",
       "      <td>582</td>\n",
       "      <td>972.00</td>\n",
       "      <td>99.0</td>\n",
       "      <td>0</td>\n",
       "      <td>0</td>\n",
       "      <td>1</td>\n",
       "      <td>6</td>\n",
       "      <td>3</td>\n",
       "      <td>...</td>\n",
       "      <td>0</td>\n",
       "      <td>0</td>\n",
       "      <td>0</td>\n",
       "      <td>0</td>\n",
       "      <td>0</td>\n",
       "      <td>0</td>\n",
       "      <td>0</td>\n",
       "      <td>0</td>\n",
       "      <td>0</td>\n",
       "      <td>0</td>\n",
       "    </tr>\n",
       "    <tr>\n",
       "      <th>6226</th>\n",
       "      <td>FRA</td>\n",
       "      <td>39.0</td>\n",
       "      <td>962</td>\n",
       "      <td>992.00</td>\n",
       "      <td>78.0</td>\n",
       "      <td>0</td>\n",
       "      <td>0</td>\n",
       "      <td>1</td>\n",
       "      <td>2</td>\n",
       "      <td>2</td>\n",
       "      <td>...</td>\n",
       "      <td>0</td>\n",
       "      <td>0</td>\n",
       "      <td>0</td>\n",
       "      <td>0</td>\n",
       "      <td>0</td>\n",
       "      <td>0</td>\n",
       "      <td>0</td>\n",
       "      <td>0</td>\n",
       "      <td>0</td>\n",
       "      <td>0</td>\n",
       "    </tr>\n",
       "    <tr>\n",
       "      <th>56586</th>\n",
       "      <td>CHE</td>\n",
       "      <td>11.0</td>\n",
       "      <td>225</td>\n",
       "      <td>0.00</td>\n",
       "      <td>0.0</td>\n",
       "      <td>0</td>\n",
       "      <td>0</td>\n",
       "      <td>0</td>\n",
       "      <td>0</td>\n",
       "      <td>0</td>\n",
       "      <td>...</td>\n",
       "      <td>0</td>\n",
       "      <td>0</td>\n",
       "      <td>0</td>\n",
       "      <td>0</td>\n",
       "      <td>0</td>\n",
       "      <td>0</td>\n",
       "      <td>0</td>\n",
       "      <td>0</td>\n",
       "      <td>0</td>\n",
       "      <td>0</td>\n",
       "    </tr>\n",
       "    <tr>\n",
       "      <th>51960</th>\n",
       "      <td>BRA</td>\n",
       "      <td>66.0</td>\n",
       "      <td>264</td>\n",
       "      <td>384.48</td>\n",
       "      <td>63.0</td>\n",
       "      <td>0</td>\n",
       "      <td>0</td>\n",
       "      <td>1</td>\n",
       "      <td>9</td>\n",
       "      <td>3</td>\n",
       "      <td>...</td>\n",
       "      <td>0</td>\n",
       "      <td>0</td>\n",
       "      <td>0</td>\n",
       "      <td>0</td>\n",
       "      <td>1</td>\n",
       "      <td>0</td>\n",
       "      <td>0</td>\n",
       "      <td>0</td>\n",
       "      <td>0</td>\n",
       "      <td>0</td>\n",
       "    </tr>\n",
       "    <tr>\n",
       "      <th>59845</th>\n",
       "      <td>FRA</td>\n",
       "      <td>47.0</td>\n",
       "      <td>199</td>\n",
       "      <td>238.00</td>\n",
       "      <td>14.0</td>\n",
       "      <td>0</td>\n",
       "      <td>0</td>\n",
       "      <td>1</td>\n",
       "      <td>2</td>\n",
       "      <td>2</td>\n",
       "      <td>...</td>\n",
       "      <td>0</td>\n",
       "      <td>0</td>\n",
       "      <td>0</td>\n",
       "      <td>0</td>\n",
       "      <td>0</td>\n",
       "      <td>0</td>\n",
       "      <td>0</td>\n",
       "      <td>0</td>\n",
       "      <td>0</td>\n",
       "      <td>0</td>\n",
       "    </tr>\n",
       "    <tr>\n",
       "      <th>...</th>\n",
       "      <td>...</td>\n",
       "      <td>...</td>\n",
       "      <td>...</td>\n",
       "      <td>...</td>\n",
       "      <td>...</td>\n",
       "      <td>...</td>\n",
       "      <td>...</td>\n",
       "      <td>...</td>\n",
       "      <td>...</td>\n",
       "      <td>...</td>\n",
       "      <td>...</td>\n",
       "      <td>...</td>\n",
       "      <td>...</td>\n",
       "      <td>...</td>\n",
       "      <td>...</td>\n",
       "      <td>...</td>\n",
       "      <td>...</td>\n",
       "      <td>...</td>\n",
       "      <td>...</td>\n",
       "      <td>...</td>\n",
       "      <td>...</td>\n",
       "    </tr>\n",
       "    <tr>\n",
       "      <th>75104</th>\n",
       "      <td>IRL</td>\n",
       "      <td>28.0</td>\n",
       "      <td>86</td>\n",
       "      <td>0.00</td>\n",
       "      <td>0.0</td>\n",
       "      <td>0</td>\n",
       "      <td>0</td>\n",
       "      <td>0</td>\n",
       "      <td>0</td>\n",
       "      <td>0</td>\n",
       "      <td>...</td>\n",
       "      <td>0</td>\n",
       "      <td>0</td>\n",
       "      <td>0</td>\n",
       "      <td>0</td>\n",
       "      <td>1</td>\n",
       "      <td>0</td>\n",
       "      <td>0</td>\n",
       "      <td>0</td>\n",
       "      <td>0</td>\n",
       "      <td>0</td>\n",
       "    </tr>\n",
       "    <tr>\n",
       "      <th>29681</th>\n",
       "      <td>BEL</td>\n",
       "      <td>44.0</td>\n",
       "      <td>575</td>\n",
       "      <td>345.60</td>\n",
       "      <td>42.0</td>\n",
       "      <td>0</td>\n",
       "      <td>0</td>\n",
       "      <td>1</td>\n",
       "      <td>6</td>\n",
       "      <td>2</td>\n",
       "      <td>...</td>\n",
       "      <td>0</td>\n",
       "      <td>0</td>\n",
       "      <td>0</td>\n",
       "      <td>0</td>\n",
       "      <td>0</td>\n",
       "      <td>1</td>\n",
       "      <td>0</td>\n",
       "      <td>0</td>\n",
       "      <td>0</td>\n",
       "      <td>0</td>\n",
       "    </tr>\n",
       "    <tr>\n",
       "      <th>14751</th>\n",
       "      <td>GBR</td>\n",
       "      <td>30.0</td>\n",
       "      <td>831</td>\n",
       "      <td>358.00</td>\n",
       "      <td>51.5</td>\n",
       "      <td>0</td>\n",
       "      <td>0</td>\n",
       "      <td>1</td>\n",
       "      <td>2</td>\n",
       "      <td>2</td>\n",
       "      <td>...</td>\n",
       "      <td>0</td>\n",
       "      <td>0</td>\n",
       "      <td>0</td>\n",
       "      <td>0</td>\n",
       "      <td>0</td>\n",
       "      <td>0</td>\n",
       "      <td>0</td>\n",
       "      <td>0</td>\n",
       "      <td>0</td>\n",
       "      <td>0</td>\n",
       "    </tr>\n",
       "    <tr>\n",
       "      <th>55835</th>\n",
       "      <td>EST</td>\n",
       "      <td>28.0</td>\n",
       "      <td>232</td>\n",
       "      <td>0.00</td>\n",
       "      <td>0.0</td>\n",
       "      <td>0</td>\n",
       "      <td>0</td>\n",
       "      <td>0</td>\n",
       "      <td>0</td>\n",
       "      <td>0</td>\n",
       "      <td>...</td>\n",
       "      <td>0</td>\n",
       "      <td>0</td>\n",
       "      <td>0</td>\n",
       "      <td>0</td>\n",
       "      <td>0</td>\n",
       "      <td>0</td>\n",
       "      <td>0</td>\n",
       "      <td>0</td>\n",
       "      <td>0</td>\n",
       "      <td>0</td>\n",
       "    </tr>\n",
       "    <tr>\n",
       "      <th>51105</th>\n",
       "      <td>GBR</td>\n",
       "      <td>32.0</td>\n",
       "      <td>270</td>\n",
       "      <td>524.40</td>\n",
       "      <td>92.0</td>\n",
       "      <td>0</td>\n",
       "      <td>0</td>\n",
       "      <td>1</td>\n",
       "      <td>8</td>\n",
       "      <td>4</td>\n",
       "      <td>...</td>\n",
       "      <td>0</td>\n",
       "      <td>0</td>\n",
       "      <td>0</td>\n",
       "      <td>0</td>\n",
       "      <td>1</td>\n",
       "      <td>0</td>\n",
       "      <td>0</td>\n",
       "      <td>0</td>\n",
       "      <td>0</td>\n",
       "      <td>0</td>\n",
       "    </tr>\n",
       "  </tbody>\n",
       "</table>\n",
       "<p>59807 rows × 27 columns</p>\n",
       "</div>"
      ],
      "text/plain": [
       "      Nationality   Age  DaysSinceCreation  LodgingRevenue  OtherRevenue  \\\n",
       "29254         FRA  50.0                582          972.00          99.0   \n",
       "6226          FRA  39.0                962          992.00          78.0   \n",
       "56586         CHE  11.0                225            0.00           0.0   \n",
       "51960         BRA  66.0                264          384.48          63.0   \n",
       "59845         FRA  47.0                199          238.00          14.0   \n",
       "...           ...   ...                ...             ...           ...   \n",
       "75104         IRL  28.0                 86            0.00           0.0   \n",
       "29681         BEL  44.0                575          345.60          42.0   \n",
       "14751         GBR  30.0                831          358.00          51.5   \n",
       "55835         EST  28.0                232            0.00           0.0   \n",
       "51105         GBR  32.0                270          524.40          92.0   \n",
       "\n",
       "       BookingsCanceled  BookingsNoShowed  BookingsCheckedIn  PersonsNights  \\\n",
       "29254                 0                 0                  1              6   \n",
       "6226                  0                 0                  1              2   \n",
       "56586                 0                 0                  0              0   \n",
       "51960                 0                 0                  1              9   \n",
       "59845                 0                 0                  1              2   \n",
       "...                 ...               ...                ...            ...   \n",
       "75104                 0                 0                  0              0   \n",
       "29681                 0                 0                  1              6   \n",
       "14751                 0                 0                  1              2   \n",
       "55835                 0                 0                  0              0   \n",
       "51105                 0                 0                  1              8   \n",
       "\n",
       "       RoomNights  ...  SRMediumFloor  SRBathtub SRShower SRCrib  \\\n",
       "29254           3  ...              0          0        0      0   \n",
       "6226            2  ...              0          0        0      0   \n",
       "56586           0  ...              0          0        0      0   \n",
       "51960           3  ...              0          0        0      0   \n",
       "59845           2  ...              0          0        0      0   \n",
       "...           ...  ...            ...        ...      ...    ...   \n",
       "75104           0  ...              0          0        0      0   \n",
       "29681           2  ...              0          0        0      0   \n",
       "14751           2  ...              0          0        0      0   \n",
       "55835           0  ...              0          0        0      0   \n",
       "51105           4  ...              0          0        0      0   \n",
       "\n",
       "       SRKingSizeBed  SRTwinBed  SRNearElevator  SRAwayFromElevator  \\\n",
       "29254              0          0               0                   0   \n",
       "6226               0          0               0                   0   \n",
       "56586              0          0               0                   0   \n",
       "51960              1          0               0                   0   \n",
       "59845              0          0               0                   0   \n",
       "...              ...        ...             ...                 ...   \n",
       "75104              1          0               0                   0   \n",
       "29681              0          1               0                   0   \n",
       "14751              0          0               0                   0   \n",
       "55835              0          0               0                   0   \n",
       "51105              1          0               0                   0   \n",
       "\n",
       "       SRNoAlcoholInMiniBar  SRQuietRoom  \n",
       "29254                     0            0  \n",
       "6226                      0            0  \n",
       "56586                     0            0  \n",
       "51960                     0            0  \n",
       "59845                     0            0  \n",
       "...                     ...          ...  \n",
       "75104                     0            0  \n",
       "29681                     0            0  \n",
       "14751                     0            0  \n",
       "55835                     0            0  \n",
       "51105                     0            0  \n",
       "\n",
       "[59807 rows x 27 columns]"
      ]
     },
     "execution_count": 324,
     "metadata": {},
     "output_type": "execute_result"
    }
   ],
   "source": [
    "X_train"
   ]
  },
  {
   "cell_type": "code",
   "execution_count": 303,
   "id": "27028584",
   "metadata": {},
   "outputs": [],
   "source": [
    "from sklearn. preprocessing import OneHotEncoder"
   ]
  },
  {
   "cell_type": "code",
   "execution_count": 304,
   "id": "c6b07240",
   "metadata": {},
   "outputs": [],
   "source": [
    "X_train = pd.get_dummies(X_train, prefix = \"\", prefix_sep=\"\")"
   ]
  },
  {
   "cell_type": "code",
   "execution_count": 305,
   "id": "7956153e",
   "metadata": {},
   "outputs": [
    {
     "data": {
      "text/html": [
       "<div>\n",
       "<style scoped>\n",
       "    .dataframe tbody tr th:only-of-type {\n",
       "        vertical-align: middle;\n",
       "    }\n",
       "\n",
       "    .dataframe tbody tr th {\n",
       "        vertical-align: top;\n",
       "    }\n",
       "\n",
       "    .dataframe thead th {\n",
       "        text-align: right;\n",
       "    }\n",
       "</style>\n",
       "<table border=\"1\" class=\"dataframe\">\n",
       "  <thead>\n",
       "    <tr style=\"text-align: right;\">\n",
       "      <th></th>\n",
       "      <th>Age</th>\n",
       "      <th>DaysSinceCreation</th>\n",
       "      <th>LodgingRevenue</th>\n",
       "      <th>OtherRevenue</th>\n",
       "      <th>BookingsCanceled</th>\n",
       "      <th>BookingsNoShowed</th>\n",
       "      <th>BookingsCheckedIn</th>\n",
       "      <th>PersonsNights</th>\n",
       "      <th>RoomNights</th>\n",
       "      <th>DaysSinceLastStay</th>\n",
       "      <th>...</th>\n",
       "      <th>Direct</th>\n",
       "      <th>Electronic Distribution</th>\n",
       "      <th>Travel Agent/Operator</th>\n",
       "      <th>Aviation</th>\n",
       "      <th>Complementary</th>\n",
       "      <th>Corporate</th>\n",
       "      <th>Direct</th>\n",
       "      <th>Groups</th>\n",
       "      <th>Other</th>\n",
       "      <th>Travel Agent/Operator</th>\n",
       "    </tr>\n",
       "  </thead>\n",
       "  <tbody>\n",
       "    <tr>\n",
       "      <th>75032</th>\n",
       "      <td>70.0</td>\n",
       "      <td>87</td>\n",
       "      <td>0.0</td>\n",
       "      <td>0.0</td>\n",
       "      <td>0</td>\n",
       "      <td>0</td>\n",
       "      <td>0</td>\n",
       "      <td>0</td>\n",
       "      <td>0</td>\n",
       "      <td>-1</td>\n",
       "      <td>...</td>\n",
       "      <td>1</td>\n",
       "      <td>0</td>\n",
       "      <td>0</td>\n",
       "      <td>0</td>\n",
       "      <td>0</td>\n",
       "      <td>0</td>\n",
       "      <td>1</td>\n",
       "      <td>0</td>\n",
       "      <td>0</td>\n",
       "      <td>0</td>\n",
       "    </tr>\n",
       "    <tr>\n",
       "      <th>42024</th>\n",
       "      <td>34.0</td>\n",
       "      <td>390</td>\n",
       "      <td>74.0</td>\n",
       "      <td>7.0</td>\n",
       "      <td>0</td>\n",
       "      <td>0</td>\n",
       "      <td>1</td>\n",
       "      <td>1</td>\n",
       "      <td>1</td>\n",
       "      <td>391</td>\n",
       "      <td>...</td>\n",
       "      <td>0</td>\n",
       "      <td>0</td>\n",
       "      <td>1</td>\n",
       "      <td>0</td>\n",
       "      <td>0</td>\n",
       "      <td>0</td>\n",
       "      <td>0</td>\n",
       "      <td>1</td>\n",
       "      <td>0</td>\n",
       "      <td>0</td>\n",
       "    </tr>\n",
       "    <tr>\n",
       "      <th>24209</th>\n",
       "      <td>55.0</td>\n",
       "      <td>655</td>\n",
       "      <td>241.3</td>\n",
       "      <td>56.0</td>\n",
       "      <td>0</td>\n",
       "      <td>0</td>\n",
       "      <td>1</td>\n",
       "      <td>8</td>\n",
       "      <td>4</td>\n",
       "      <td>659</td>\n",
       "      <td>...</td>\n",
       "      <td>0</td>\n",
       "      <td>0</td>\n",
       "      <td>1</td>\n",
       "      <td>0</td>\n",
       "      <td>0</td>\n",
       "      <td>0</td>\n",
       "      <td>0</td>\n",
       "      <td>0</td>\n",
       "      <td>1</td>\n",
       "      <td>0</td>\n",
       "    </tr>\n",
       "    <tr>\n",
       "      <th>35068</th>\n",
       "      <td>36.0</td>\n",
       "      <td>494</td>\n",
       "      <td>436.0</td>\n",
       "      <td>31.0</td>\n",
       "      <td>0</td>\n",
       "      <td>0</td>\n",
       "      <td>1</td>\n",
       "      <td>4</td>\n",
       "      <td>4</td>\n",
       "      <td>498</td>\n",
       "      <td>...</td>\n",
       "      <td>0</td>\n",
       "      <td>0</td>\n",
       "      <td>1</td>\n",
       "      <td>0</td>\n",
       "      <td>0</td>\n",
       "      <td>0</td>\n",
       "      <td>0</td>\n",
       "      <td>0</td>\n",
       "      <td>0</td>\n",
       "      <td>1</td>\n",
       "    </tr>\n",
       "    <tr>\n",
       "      <th>75293</th>\n",
       "      <td>60.0</td>\n",
       "      <td>85</td>\n",
       "      <td>0.0</td>\n",
       "      <td>0.0</td>\n",
       "      <td>0</td>\n",
       "      <td>0</td>\n",
       "      <td>0</td>\n",
       "      <td>0</td>\n",
       "      <td>0</td>\n",
       "      <td>-1</td>\n",
       "      <td>...</td>\n",
       "      <td>0</td>\n",
       "      <td>0</td>\n",
       "      <td>1</td>\n",
       "      <td>0</td>\n",
       "      <td>0</td>\n",
       "      <td>0</td>\n",
       "      <td>0</td>\n",
       "      <td>0</td>\n",
       "      <td>1</td>\n",
       "      <td>0</td>\n",
       "    </tr>\n",
       "  </tbody>\n",
       "</table>\n",
       "<p>5 rows × 216 columns</p>\n",
       "</div>"
      ],
      "text/plain": [
       "        Age  DaysSinceCreation  LodgingRevenue  OtherRevenue  \\\n",
       "75032  70.0                 87             0.0           0.0   \n",
       "42024  34.0                390            74.0           7.0   \n",
       "24209  55.0                655           241.3          56.0   \n",
       "35068  36.0                494           436.0          31.0   \n",
       "75293  60.0                 85             0.0           0.0   \n",
       "\n",
       "       BookingsCanceled  BookingsNoShowed  BookingsCheckedIn  PersonsNights  \\\n",
       "75032                 0                 0                  0              0   \n",
       "42024                 0                 0                  1              1   \n",
       "24209                 0                 0                  1              8   \n",
       "35068                 0                 0                  1              4   \n",
       "75293                 0                 0                  0              0   \n",
       "\n",
       "       RoomNights  DaysSinceLastStay  ...  Direct  Electronic Distribution  \\\n",
       "75032           0                 -1  ...       1                        0   \n",
       "42024           1                391  ...       0                        0   \n",
       "24209           4                659  ...       0                        0   \n",
       "35068           4                498  ...       0                        0   \n",
       "75293           0                 -1  ...       0                        0   \n",
       "\n",
       "       Travel Agent/Operator  Aviation  Complementary  Corporate  Direct  \\\n",
       "75032                      0         0              0          0       1   \n",
       "42024                      1         0              0          0       0   \n",
       "24209                      1         0              0          0       0   \n",
       "35068                      1         0              0          0       0   \n",
       "75293                      1         0              0          0       0   \n",
       "\n",
       "       Groups  Other  Travel Agent/Operator  \n",
       "75032       0      0                      0  \n",
       "42024       1      0                      0  \n",
       "24209       0      1                      0  \n",
       "35068       0      0                      1  \n",
       "75293       0      1                      0  \n",
       "\n",
       "[5 rows x 216 columns]"
      ]
     },
     "execution_count": 305,
     "metadata": {},
     "output_type": "execute_result"
    }
   ],
   "source": [
    "X_train.head()"
   ]
  },
  {
   "cell_type": "code",
   "execution_count": 306,
   "id": "39eb7cb3",
   "metadata": {},
   "outputs": [
    {
     "data": {
      "text/plain": [
       "(63794, 216)"
      ]
     },
     "execution_count": 306,
     "metadata": {},
     "output_type": "execute_result"
    }
   ],
   "source": [
    "X_train.shape"
   ]
  },
  {
   "cell_type": "code",
   "execution_count": 307,
   "id": "bb9d89f2",
   "metadata": {},
   "outputs": [],
   "source": [
    "ohe = OneHotEncoder(handle_unknown='ignore')"
   ]
  },
  {
   "cell_type": "code",
   "execution_count": 308,
   "id": "0f37da82",
   "metadata": {},
   "outputs": [],
   "source": [
    "X_train, X_test, y_train, y_test = train_test_split(X, y)"
   ]
  },
  {
   "cell_type": "code",
   "execution_count": 309,
   "id": "05e6a5c6",
   "metadata": {},
   "outputs": [
    {
     "data": {
      "text/plain": [
       "29254    FRA\n",
       "6226     FRA\n",
       "56586    CHE\n",
       "51960    BRA\n",
       "59845    FRA\n",
       "        ... \n",
       "75104    IRL\n",
       "29681    BEL\n",
       "14751    GBR\n",
       "55835    EST\n",
       "51105    GBR\n",
       "Name: Nationality, Length: 59807, dtype: object"
      ]
     },
     "execution_count": 309,
     "metadata": {},
     "output_type": "execute_result"
    }
   ],
   "source": [
    "X_train[\"Nationality\"]"
   ]
  },
  {
   "cell_type": "code",
   "execution_count": 310,
   "id": "f1e4b9be",
   "metadata": {},
   "outputs": [
    {
     "data": {
      "text/plain": [
       "29254    Travel Agent/Operator\n",
       "6226                    Direct\n",
       "56586                   Direct\n",
       "51960    Travel Agent/Operator\n",
       "59845    Travel Agent/Operator\n",
       "                 ...          \n",
       "75104    Travel Agent/Operator\n",
       "29681    Travel Agent/Operator\n",
       "14751                Corporate\n",
       "55835    Travel Agent/Operator\n",
       "51105    Travel Agent/Operator\n",
       "Name: DistributionChannel, Length: 59807, dtype: object"
      ]
     },
     "execution_count": 310,
     "metadata": {},
     "output_type": "execute_result"
    }
   ],
   "source": [
    "X_train[\"DistributionChannel\"]"
   ]
  },
  {
   "cell_type": "code",
   "execution_count": 311,
   "id": "17591d37",
   "metadata": {},
   "outputs": [
    {
     "data": {
      "text/plain": [
       "29254        Other\n",
       "6226        Direct\n",
       "56586       Direct\n",
       "51960        Other\n",
       "59845       Groups\n",
       "           ...    \n",
       "75104        Other\n",
       "29681        Other\n",
       "14751    Corporate\n",
       "55835       Groups\n",
       "51105        Other\n",
       "Name: MarketSegment, Length: 59807, dtype: object"
      ]
     },
     "execution_count": 311,
     "metadata": {},
     "output_type": "execute_result"
    }
   ],
   "source": [
    "X_train[\"MarketSegment\"]"
   ]
  },
  {
   "cell_type": "code",
   "execution_count": 312,
   "id": "60157c64",
   "metadata": {},
   "outputs": [
    {
     "data": {
      "text/plain": [
       "pandas.core.frame.DataFrame"
      ]
     },
     "execution_count": 312,
     "metadata": {},
     "output_type": "execute_result"
    }
   ],
   "source": [
    "type(X_train[[\"Nationality\"]])"
   ]
  },
  {
   "cell_type": "code",
   "execution_count": 313,
   "id": "a665d4ef",
   "metadata": {},
   "outputs": [
    {
     "data": {
      "text/html": [
       "<style>#sk-container-id-13 {color: black;background-color: white;}#sk-container-id-13 pre{padding: 0;}#sk-container-id-13 div.sk-toggleable {background-color: white;}#sk-container-id-13 label.sk-toggleable__label {cursor: pointer;display: block;width: 100%;margin-bottom: 0;padding: 0.3em;box-sizing: border-box;text-align: center;}#sk-container-id-13 label.sk-toggleable__label-arrow:before {content: \"▸\";float: left;margin-right: 0.25em;color: #696969;}#sk-container-id-13 label.sk-toggleable__label-arrow:hover:before {color: black;}#sk-container-id-13 div.sk-estimator:hover label.sk-toggleable__label-arrow:before {color: black;}#sk-container-id-13 div.sk-toggleable__content {max-height: 0;max-width: 0;overflow: hidden;text-align: left;background-color: #f0f8ff;}#sk-container-id-13 div.sk-toggleable__content pre {margin: 0.2em;color: black;border-radius: 0.25em;background-color: #f0f8ff;}#sk-container-id-13 input.sk-toggleable__control:checked~div.sk-toggleable__content {max-height: 200px;max-width: 100%;overflow: auto;}#sk-container-id-13 input.sk-toggleable__control:checked~label.sk-toggleable__label-arrow:before {content: \"▾\";}#sk-container-id-13 div.sk-estimator input.sk-toggleable__control:checked~label.sk-toggleable__label {background-color: #d4ebff;}#sk-container-id-13 div.sk-label input.sk-toggleable__control:checked~label.sk-toggleable__label {background-color: #d4ebff;}#sk-container-id-13 input.sk-hidden--visually {border: 0;clip: rect(1px 1px 1px 1px);clip: rect(1px, 1px, 1px, 1px);height: 1px;margin: -1px;overflow: hidden;padding: 0;position: absolute;width: 1px;}#sk-container-id-13 div.sk-estimator {font-family: monospace;background-color: #f0f8ff;border: 1px dotted black;border-radius: 0.25em;box-sizing: border-box;margin-bottom: 0.5em;}#sk-container-id-13 div.sk-estimator:hover {background-color: #d4ebff;}#sk-container-id-13 div.sk-parallel-item::after {content: \"\";width: 100%;border-bottom: 1px solid gray;flex-grow: 1;}#sk-container-id-13 div.sk-label:hover label.sk-toggleable__label {background-color: #d4ebff;}#sk-container-id-13 div.sk-serial::before {content: \"\";position: absolute;border-left: 1px solid gray;box-sizing: border-box;top: 0;bottom: 0;left: 50%;z-index: 0;}#sk-container-id-13 div.sk-serial {display: flex;flex-direction: column;align-items: center;background-color: white;padding-right: 0.2em;padding-left: 0.2em;position: relative;}#sk-container-id-13 div.sk-item {position: relative;z-index: 1;}#sk-container-id-13 div.sk-parallel {display: flex;align-items: stretch;justify-content: center;background-color: white;position: relative;}#sk-container-id-13 div.sk-item::before, #sk-container-id-13 div.sk-parallel-item::before {content: \"\";position: absolute;border-left: 1px solid gray;box-sizing: border-box;top: 0;bottom: 0;left: 50%;z-index: -1;}#sk-container-id-13 div.sk-parallel-item {display: flex;flex-direction: column;z-index: 1;position: relative;background-color: white;}#sk-container-id-13 div.sk-parallel-item:first-child::after {align-self: flex-end;width: 50%;}#sk-container-id-13 div.sk-parallel-item:last-child::after {align-self: flex-start;width: 50%;}#sk-container-id-13 div.sk-parallel-item:only-child::after {width: 0;}#sk-container-id-13 div.sk-dashed-wrapped {border: 1px dashed gray;margin: 0 0.4em 0.5em 0.4em;box-sizing: border-box;padding-bottom: 0.4em;background-color: white;}#sk-container-id-13 div.sk-label label {font-family: monospace;font-weight: bold;display: inline-block;line-height: 1.2em;}#sk-container-id-13 div.sk-label-container {text-align: center;}#sk-container-id-13 div.sk-container {/* jupyter's `normalize.less` sets `[hidden] { display: none; }` but bootstrap.min.css set `[hidden] { display: none !important; }` so we also need the `!important` here to be able to override the default hidden behavior on the sphinx rendered scikit-learn.org. See: https://github.com/scikit-learn/scikit-learn/issues/21755 */display: inline-block !important;position: relative;}#sk-container-id-13 div.sk-text-repr-fallback {display: none;}</style><div id=\"sk-container-id-13\" class=\"sk-top-container\"><div class=\"sk-text-repr-fallback\"><pre>OneHotEncoder(handle_unknown=&#x27;ignore&#x27;)</pre><b>In a Jupyter environment, please rerun this cell to show the HTML representation or trust the notebook. <br />On GitHub, the HTML representation is unable to render, please try loading this page with nbviewer.org.</b></div><div class=\"sk-container\" hidden><div class=\"sk-item\"><div class=\"sk-estimator sk-toggleable\"><input class=\"sk-toggleable__control sk-hidden--visually\" id=\"sk-estimator-id-13\" type=\"checkbox\" checked><label for=\"sk-estimator-id-13\" class=\"sk-toggleable__label sk-toggleable__label-arrow\">OneHotEncoder</label><div class=\"sk-toggleable__content\"><pre>OneHotEncoder(handle_unknown=&#x27;ignore&#x27;)</pre></div></div></div></div></div>"
      ],
      "text/plain": [
       "OneHotEncoder(handle_unknown='ignore')"
      ]
     },
     "execution_count": 313,
     "metadata": {},
     "output_type": "execute_result"
    }
   ],
   "source": [
    "ohe.fit(X_train[[\"DistributionChannel\"]])"
   ]
  },
  {
   "cell_type": "code",
   "execution_count": 314,
   "id": "a638e931",
   "metadata": {},
   "outputs": [
    {
     "data": {
      "text/html": [
       "<style>#sk-container-id-14 {color: black;background-color: white;}#sk-container-id-14 pre{padding: 0;}#sk-container-id-14 div.sk-toggleable {background-color: white;}#sk-container-id-14 label.sk-toggleable__label {cursor: pointer;display: block;width: 100%;margin-bottom: 0;padding: 0.3em;box-sizing: border-box;text-align: center;}#sk-container-id-14 label.sk-toggleable__label-arrow:before {content: \"▸\";float: left;margin-right: 0.25em;color: #696969;}#sk-container-id-14 label.sk-toggleable__label-arrow:hover:before {color: black;}#sk-container-id-14 div.sk-estimator:hover label.sk-toggleable__label-arrow:before {color: black;}#sk-container-id-14 div.sk-toggleable__content {max-height: 0;max-width: 0;overflow: hidden;text-align: left;background-color: #f0f8ff;}#sk-container-id-14 div.sk-toggleable__content pre {margin: 0.2em;color: black;border-radius: 0.25em;background-color: #f0f8ff;}#sk-container-id-14 input.sk-toggleable__control:checked~div.sk-toggleable__content {max-height: 200px;max-width: 100%;overflow: auto;}#sk-container-id-14 input.sk-toggleable__control:checked~label.sk-toggleable__label-arrow:before {content: \"▾\";}#sk-container-id-14 div.sk-estimator input.sk-toggleable__control:checked~label.sk-toggleable__label {background-color: #d4ebff;}#sk-container-id-14 div.sk-label input.sk-toggleable__control:checked~label.sk-toggleable__label {background-color: #d4ebff;}#sk-container-id-14 input.sk-hidden--visually {border: 0;clip: rect(1px 1px 1px 1px);clip: rect(1px, 1px, 1px, 1px);height: 1px;margin: -1px;overflow: hidden;padding: 0;position: absolute;width: 1px;}#sk-container-id-14 div.sk-estimator {font-family: monospace;background-color: #f0f8ff;border: 1px dotted black;border-radius: 0.25em;box-sizing: border-box;margin-bottom: 0.5em;}#sk-container-id-14 div.sk-estimator:hover {background-color: #d4ebff;}#sk-container-id-14 div.sk-parallel-item::after {content: \"\";width: 100%;border-bottom: 1px solid gray;flex-grow: 1;}#sk-container-id-14 div.sk-label:hover label.sk-toggleable__label {background-color: #d4ebff;}#sk-container-id-14 div.sk-serial::before {content: \"\";position: absolute;border-left: 1px solid gray;box-sizing: border-box;top: 0;bottom: 0;left: 50%;z-index: 0;}#sk-container-id-14 div.sk-serial {display: flex;flex-direction: column;align-items: center;background-color: white;padding-right: 0.2em;padding-left: 0.2em;position: relative;}#sk-container-id-14 div.sk-item {position: relative;z-index: 1;}#sk-container-id-14 div.sk-parallel {display: flex;align-items: stretch;justify-content: center;background-color: white;position: relative;}#sk-container-id-14 div.sk-item::before, #sk-container-id-14 div.sk-parallel-item::before {content: \"\";position: absolute;border-left: 1px solid gray;box-sizing: border-box;top: 0;bottom: 0;left: 50%;z-index: -1;}#sk-container-id-14 div.sk-parallel-item {display: flex;flex-direction: column;z-index: 1;position: relative;background-color: white;}#sk-container-id-14 div.sk-parallel-item:first-child::after {align-self: flex-end;width: 50%;}#sk-container-id-14 div.sk-parallel-item:last-child::after {align-self: flex-start;width: 50%;}#sk-container-id-14 div.sk-parallel-item:only-child::after {width: 0;}#sk-container-id-14 div.sk-dashed-wrapped {border: 1px dashed gray;margin: 0 0.4em 0.5em 0.4em;box-sizing: border-box;padding-bottom: 0.4em;background-color: white;}#sk-container-id-14 div.sk-label label {font-family: monospace;font-weight: bold;display: inline-block;line-height: 1.2em;}#sk-container-id-14 div.sk-label-container {text-align: center;}#sk-container-id-14 div.sk-container {/* jupyter's `normalize.less` sets `[hidden] { display: none; }` but bootstrap.min.css set `[hidden] { display: none !important; }` so we also need the `!important` here to be able to override the default hidden behavior on the sphinx rendered scikit-learn.org. See: https://github.com/scikit-learn/scikit-learn/issues/21755 */display: inline-block !important;position: relative;}#sk-container-id-14 div.sk-text-repr-fallback {display: none;}</style><div id=\"sk-container-id-14\" class=\"sk-top-container\"><div class=\"sk-text-repr-fallback\"><pre>OneHotEncoder(handle_unknown=&#x27;ignore&#x27;)</pre><b>In a Jupyter environment, please rerun this cell to show the HTML representation or trust the notebook. <br />On GitHub, the HTML representation is unable to render, please try loading this page with nbviewer.org.</b></div><div class=\"sk-container\" hidden><div class=\"sk-item\"><div class=\"sk-estimator sk-toggleable\"><input class=\"sk-toggleable__control sk-hidden--visually\" id=\"sk-estimator-id-14\" type=\"checkbox\" checked><label for=\"sk-estimator-id-14\" class=\"sk-toggleable__label sk-toggleable__label-arrow\">OneHotEncoder</label><div class=\"sk-toggleable__content\"><pre>OneHotEncoder(handle_unknown=&#x27;ignore&#x27;)</pre></div></div></div></div></div>"
      ],
      "text/plain": [
       "OneHotEncoder(handle_unknown='ignore')"
      ]
     },
     "execution_count": 314,
     "metadata": {},
     "output_type": "execute_result"
    }
   ],
   "source": [
    "ohe.fit(X_train[[\"MarketSegment\"]])"
   ]
  },
  {
   "cell_type": "code",
   "execution_count": 315,
   "id": "b70759be",
   "metadata": {},
   "outputs": [
    {
     "data": {
      "text/html": [
       "<style>#sk-container-id-15 {color: black;background-color: white;}#sk-container-id-15 pre{padding: 0;}#sk-container-id-15 div.sk-toggleable {background-color: white;}#sk-container-id-15 label.sk-toggleable__label {cursor: pointer;display: block;width: 100%;margin-bottom: 0;padding: 0.3em;box-sizing: border-box;text-align: center;}#sk-container-id-15 label.sk-toggleable__label-arrow:before {content: \"▸\";float: left;margin-right: 0.25em;color: #696969;}#sk-container-id-15 label.sk-toggleable__label-arrow:hover:before {color: black;}#sk-container-id-15 div.sk-estimator:hover label.sk-toggleable__label-arrow:before {color: black;}#sk-container-id-15 div.sk-toggleable__content {max-height: 0;max-width: 0;overflow: hidden;text-align: left;background-color: #f0f8ff;}#sk-container-id-15 div.sk-toggleable__content pre {margin: 0.2em;color: black;border-radius: 0.25em;background-color: #f0f8ff;}#sk-container-id-15 input.sk-toggleable__control:checked~div.sk-toggleable__content {max-height: 200px;max-width: 100%;overflow: auto;}#sk-container-id-15 input.sk-toggleable__control:checked~label.sk-toggleable__label-arrow:before {content: \"▾\";}#sk-container-id-15 div.sk-estimator input.sk-toggleable__control:checked~label.sk-toggleable__label {background-color: #d4ebff;}#sk-container-id-15 div.sk-label input.sk-toggleable__control:checked~label.sk-toggleable__label {background-color: #d4ebff;}#sk-container-id-15 input.sk-hidden--visually {border: 0;clip: rect(1px 1px 1px 1px);clip: rect(1px, 1px, 1px, 1px);height: 1px;margin: -1px;overflow: hidden;padding: 0;position: absolute;width: 1px;}#sk-container-id-15 div.sk-estimator {font-family: monospace;background-color: #f0f8ff;border: 1px dotted black;border-radius: 0.25em;box-sizing: border-box;margin-bottom: 0.5em;}#sk-container-id-15 div.sk-estimator:hover {background-color: #d4ebff;}#sk-container-id-15 div.sk-parallel-item::after {content: \"\";width: 100%;border-bottom: 1px solid gray;flex-grow: 1;}#sk-container-id-15 div.sk-label:hover label.sk-toggleable__label {background-color: #d4ebff;}#sk-container-id-15 div.sk-serial::before {content: \"\";position: absolute;border-left: 1px solid gray;box-sizing: border-box;top: 0;bottom: 0;left: 50%;z-index: 0;}#sk-container-id-15 div.sk-serial {display: flex;flex-direction: column;align-items: center;background-color: white;padding-right: 0.2em;padding-left: 0.2em;position: relative;}#sk-container-id-15 div.sk-item {position: relative;z-index: 1;}#sk-container-id-15 div.sk-parallel {display: flex;align-items: stretch;justify-content: center;background-color: white;position: relative;}#sk-container-id-15 div.sk-item::before, #sk-container-id-15 div.sk-parallel-item::before {content: \"\";position: absolute;border-left: 1px solid gray;box-sizing: border-box;top: 0;bottom: 0;left: 50%;z-index: -1;}#sk-container-id-15 div.sk-parallel-item {display: flex;flex-direction: column;z-index: 1;position: relative;background-color: white;}#sk-container-id-15 div.sk-parallel-item:first-child::after {align-self: flex-end;width: 50%;}#sk-container-id-15 div.sk-parallel-item:last-child::after {align-self: flex-start;width: 50%;}#sk-container-id-15 div.sk-parallel-item:only-child::after {width: 0;}#sk-container-id-15 div.sk-dashed-wrapped {border: 1px dashed gray;margin: 0 0.4em 0.5em 0.4em;box-sizing: border-box;padding-bottom: 0.4em;background-color: white;}#sk-container-id-15 div.sk-label label {font-family: monospace;font-weight: bold;display: inline-block;line-height: 1.2em;}#sk-container-id-15 div.sk-label-container {text-align: center;}#sk-container-id-15 div.sk-container {/* jupyter's `normalize.less` sets `[hidden] { display: none; }` but bootstrap.min.css set `[hidden] { display: none !important; }` so we also need the `!important` here to be able to override the default hidden behavior on the sphinx rendered scikit-learn.org. See: https://github.com/scikit-learn/scikit-learn/issues/21755 */display: inline-block !important;position: relative;}#sk-container-id-15 div.sk-text-repr-fallback {display: none;}</style><div id=\"sk-container-id-15\" class=\"sk-top-container\"><div class=\"sk-text-repr-fallback\"><pre>OneHotEncoder(handle_unknown=&#x27;ignore&#x27;)</pre><b>In a Jupyter environment, please rerun this cell to show the HTML representation or trust the notebook. <br />On GitHub, the HTML representation is unable to render, please try loading this page with nbviewer.org.</b></div><div class=\"sk-container\" hidden><div class=\"sk-item\"><div class=\"sk-estimator sk-toggleable\"><input class=\"sk-toggleable__control sk-hidden--visually\" id=\"sk-estimator-id-15\" type=\"checkbox\" checked><label for=\"sk-estimator-id-15\" class=\"sk-toggleable__label sk-toggleable__label-arrow\">OneHotEncoder</label><div class=\"sk-toggleable__content\"><pre>OneHotEncoder(handle_unknown=&#x27;ignore&#x27;)</pre></div></div></div></div></div>"
      ],
      "text/plain": [
       "OneHotEncoder(handle_unknown='ignore')"
      ]
     },
     "execution_count": 315,
     "metadata": {},
     "output_type": "execute_result"
    }
   ],
   "source": [
    "ohe.fit(X_train[[\"Nationality\"]])"
   ]
  },
  {
   "cell_type": "code",
   "execution_count": 316,
   "id": "51f75cb8",
   "metadata": {},
   "outputs": [
    {
     "data": {
      "text/plain": [
       "[array(['ABW', 'AGO', 'AIA', 'ALB', 'AND', 'ARE', 'ARG', 'ARM', 'ASM',\n",
       "        'ATA', 'ATF', 'ATG', 'AUS', 'AUT', 'AZE', 'BEL', 'BEN', 'BGD',\n",
       "        'BGR', 'BHR', 'BHS', 'BIH', 'BLR', 'BOL', 'BRA', 'BRB', 'BWA',\n",
       "        'CAF', 'CAN', 'CHE', 'CHL', 'CHN', 'CIV', 'CMR', 'COD', 'COL',\n",
       "        'COM', 'CPV', 'CRI', 'CUB', 'CYM', 'CYP', 'CZE', 'DEU', 'DMA',\n",
       "        'DNK', 'DOM', 'DZA', 'ECU', 'EGY', 'ERI', 'ESP', 'EST', 'ETH',\n",
       "        'FIN', 'FRA', 'FRO', 'GAB', 'GBR', 'GEO', 'GHA', 'GIB', 'GIN',\n",
       "        'GNB', 'GNQ', 'GRC', 'GTM', 'GUY', 'HKG', 'HRV', 'HTI', 'HUN',\n",
       "        'IDN', 'IND', 'IOT', 'IRL', 'IRN', 'IRQ', 'ISL', 'ISR', 'ITA',\n",
       "        'JAM', 'JEY', 'JOR', 'JPN', 'KAZ', 'KEN', 'KGZ', 'KOR', 'KWT',\n",
       "        'LAO', 'LBN', 'LBY', 'LCA', 'LIE', 'LKA', 'LTU', 'LUX', 'LVA',\n",
       "        'MAR', 'MCO', 'MDG', 'MDV', 'MEX', 'MKD', 'MLI', 'MLT', 'MMR',\n",
       "        'MNE', 'MOZ', 'MUS', 'MWI', 'MYS', 'NAM', 'NCL', 'NGA', 'NIC',\n",
       "        'NLD', 'NOR', 'NPL', 'NZL', 'OMN', 'PAK', 'PAN', 'PER', 'PHL',\n",
       "        'POL', 'PRI', 'PRT', 'PRY', 'QAT', 'ROU', 'RUS', 'RWA', 'SAU',\n",
       "        'SDN', 'SEN', 'SGP', 'SLE', 'SLV', 'SMR', 'SOM', 'SPM', 'SRB',\n",
       "        'STP', 'SUR', 'SVK', 'SVN', 'SWE', 'SWZ', 'SYC', 'SYR', 'TCD',\n",
       "        'TGO', 'THA', 'TJK', 'TKM', 'TMP', 'TON', 'TUN', 'TUR', 'TWN',\n",
       "        'TZA', 'UGA', 'UKR', 'UMI', 'URY', 'USA', 'UZB', 'VCT', 'VEN',\n",
       "        'VNM', 'WLF', 'YEM', 'ZAF'], dtype=object)]"
      ]
     },
     "execution_count": 316,
     "metadata": {},
     "output_type": "execute_result"
    }
   ],
   "source": [
    "ohe.categories_"
   ]
  },
  {
   "cell_type": "code",
   "execution_count": 317,
   "id": "8d51f1d5",
   "metadata": {},
   "outputs": [],
   "source": [
    "encoded_Nationality_train = ohe.transform(X_train[[\"Nationality\"]])"
   ]
  },
  {
   "cell_type": "code",
   "execution_count": 321,
   "id": "59f41fda",
   "metadata": {},
   "outputs": [
    {
     "data": {
      "text/plain": [
       "matrix([[0., 0., 0., 0., 0., 0., 0., 0., 0., 0., 0., 0., 0., 0., 0., 0.,\n",
       "         0., 0., 0., 0., 0., 0., 0., 0., 0., 0., 0., 0., 0., 0., 0., 0.,\n",
       "         0., 0., 0., 0., 0., 0., 0., 0., 0., 0., 0., 0., 0., 0., 0., 0.,\n",
       "         0., 0., 0., 0., 0., 0., 0., 1., 0., 0., 0., 0., 0., 0., 0., 0.,\n",
       "         0., 0., 0., 0., 0., 0., 0., 0., 0., 0., 0., 0., 0., 0., 0., 0.,\n",
       "         0., 0., 0., 0., 0., 0., 0., 0., 0., 0., 0., 0., 0., 0., 0., 0.,\n",
       "         0., 0., 0., 0., 0., 0., 0., 0., 0., 0., 0., 0., 0., 0., 0., 0.,\n",
       "         0., 0., 0., 0., 0., 0., 0., 0., 0., 0., 0., 0., 0., 0., 0., 0.,\n",
       "         0., 0., 0., 0., 0., 0., 0., 0., 0., 0., 0., 0., 0., 0., 0., 0.,\n",
       "         0., 0., 0., 0., 0., 0., 0., 0., 0., 0., 0., 0., 0., 0., 0., 0.,\n",
       "         0., 0., 0., 0., 0., 0., 0., 0., 0., 0., 0., 0., 0., 0., 0.],\n",
       "        [0., 0., 0., 0., 0., 0., 0., 0., 0., 0., 0., 0., 0., 0., 0., 0.,\n",
       "         0., 0., 0., 0., 0., 0., 0., 0., 0., 0., 0., 0., 0., 0., 0., 0.,\n",
       "         0., 0., 0., 0., 0., 0., 0., 0., 0., 0., 0., 0., 0., 0., 0., 0.,\n",
       "         0., 0., 0., 0., 0., 0., 0., 1., 0., 0., 0., 0., 0., 0., 0., 0.,\n",
       "         0., 0., 0., 0., 0., 0., 0., 0., 0., 0., 0., 0., 0., 0., 0., 0.,\n",
       "         0., 0., 0., 0., 0., 0., 0., 0., 0., 0., 0., 0., 0., 0., 0., 0.,\n",
       "         0., 0., 0., 0., 0., 0., 0., 0., 0., 0., 0., 0., 0., 0., 0., 0.,\n",
       "         0., 0., 0., 0., 0., 0., 0., 0., 0., 0., 0., 0., 0., 0., 0., 0.,\n",
       "         0., 0., 0., 0., 0., 0., 0., 0., 0., 0., 0., 0., 0., 0., 0., 0.,\n",
       "         0., 0., 0., 0., 0., 0., 0., 0., 0., 0., 0., 0., 0., 0., 0., 0.,\n",
       "         0., 0., 0., 0., 0., 0., 0., 0., 0., 0., 0., 0., 0., 0., 0.]])"
      ]
     },
     "execution_count": 321,
     "metadata": {},
     "output_type": "execute_result"
    }
   ],
   "source": [
    "encoded_Nationality_train.todense()[:2]"
   ]
  },
  {
   "cell_type": "code",
   "execution_count": 319,
   "id": "c929305d",
   "metadata": {
    "scrolled": true
   },
   "outputs": [
    {
     "name": "stderr",
     "output_type": "stream",
     "text": [
      "/home/iremirezdeganuza/miniconda3/envs/cohortes/lib/python3.10/site-packages/sklearn/base.py:493: FutureWarning: The feature names should match those that were passed during fit. Starting version 1.2, an error will be raised.\n",
      "Feature names unseen at fit time:\n",
      "- DistributionChannel\n",
      "Feature names seen at fit time, yet now missing:\n",
      "- Nationality\n",
      "\n",
      "  warnings.warn(message, FutureWarning)\n"
     ]
    }
   ],
   "source": [
    "encoded_DistributionChannel_train = ohe.transform(X_train[[\"DistributionChannel\"]])"
   ]
  },
  {
   "cell_type": "code",
   "execution_count": 322,
   "id": "c348950c",
   "metadata": {},
   "outputs": [
    {
     "data": {
      "text/plain": [
       "matrix([[0., 0., 0., 0., 0., 0., 0., 0., 0., 0., 0., 0., 0., 0., 0., 0.,\n",
       "         0., 0., 0., 0., 0., 0., 0., 0., 0., 0., 0., 0., 0., 0., 0., 0.,\n",
       "         0., 0., 0., 0., 0., 0., 0., 0., 0., 0., 0., 0., 0., 0., 0., 0.,\n",
       "         0., 0., 0., 0., 0., 0., 0., 0., 0., 0., 0., 0., 0., 0., 0., 0.,\n",
       "         0., 0., 0., 0., 0., 0., 0., 0., 0., 0., 0., 0., 0., 0., 0., 0.,\n",
       "         0., 0., 0., 0., 0., 0., 0., 0., 0., 0., 0., 0., 0., 0., 0., 0.,\n",
       "         0., 0., 0., 0., 0., 0., 0., 0., 0., 0., 0., 0., 0., 0., 0., 0.,\n",
       "         0., 0., 0., 0., 0., 0., 0., 0., 0., 0., 0., 0., 0., 0., 0., 0.,\n",
       "         0., 0., 0., 0., 0., 0., 0., 0., 0., 0., 0., 0., 0., 0., 0., 0.,\n",
       "         0., 0., 0., 0., 0., 0., 0., 0., 0., 0., 0., 0., 0., 0., 0., 0.,\n",
       "         0., 0., 0., 0., 0., 0., 0., 0., 0., 0., 0., 0., 0., 0., 0.],\n",
       "        [0., 0., 0., 0., 0., 0., 0., 0., 0., 0., 0., 0., 0., 0., 0., 0.,\n",
       "         0., 0., 0., 0., 0., 0., 0., 0., 0., 0., 0., 0., 0., 0., 0., 0.,\n",
       "         0., 0., 0., 0., 0., 0., 0., 0., 0., 0., 0., 0., 0., 0., 0., 0.,\n",
       "         0., 0., 0., 0., 0., 0., 0., 0., 0., 0., 0., 0., 0., 0., 0., 0.,\n",
       "         0., 0., 0., 0., 0., 0., 0., 0., 0., 0., 0., 0., 0., 0., 0., 0.,\n",
       "         0., 0., 0., 0., 0., 0., 0., 0., 0., 0., 0., 0., 0., 0., 0., 0.,\n",
       "         0., 0., 0., 0., 0., 0., 0., 0., 0., 0., 0., 0., 0., 0., 0., 0.,\n",
       "         0., 0., 0., 0., 0., 0., 0., 0., 0., 0., 0., 0., 0., 0., 0., 0.,\n",
       "         0., 0., 0., 0., 0., 0., 0., 0., 0., 0., 0., 0., 0., 0., 0., 0.,\n",
       "         0., 0., 0., 0., 0., 0., 0., 0., 0., 0., 0., 0., 0., 0., 0., 0.,\n",
       "         0., 0., 0., 0., 0., 0., 0., 0., 0., 0., 0., 0., 0., 0., 0.]])"
      ]
     },
     "execution_count": 322,
     "metadata": {},
     "output_type": "execute_result"
    }
   ],
   "source": [
    "encoded_DistributionChannel_train.todense()[:2]"
   ]
  },
  {
   "cell_type": "code",
   "execution_count": 320,
   "id": "ad4be397",
   "metadata": {},
   "outputs": [
    {
     "name": "stderr",
     "output_type": "stream",
     "text": [
      "/home/iremirezdeganuza/miniconda3/envs/cohortes/lib/python3.10/site-packages/sklearn/base.py:493: FutureWarning: The feature names should match those that were passed during fit. Starting version 1.2, an error will be raised.\n",
      "Feature names unseen at fit time:\n",
      "- MarketSegment\n",
      "Feature names seen at fit time, yet now missing:\n",
      "- Nationality\n",
      "\n",
      "  warnings.warn(message, FutureWarning)\n"
     ]
    }
   ],
   "source": [
    "encoded_MarketSegment_train = ohe.transform(X_train[[\"MarketSegment\"]])"
   ]
  },
  {
   "cell_type": "code",
   "execution_count": 264,
   "id": "fb83348d",
   "metadata": {},
   "outputs": [
    {
     "data": {
      "text/plain": [
       "matrix([[0., 0., 0., 0., 0., 0., 0., 0., 0., 0., 0., 0., 0., 0., 0., 0.,\n",
       "         0., 0., 0., 0., 0., 0., 0., 0., 0., 0., 0., 0., 0., 0., 0., 0.,\n",
       "         0., 0., 0., 0., 0., 0., 0., 0., 0., 0., 0., 0., 0., 0., 0., 0.,\n",
       "         0., 0., 0., 0., 0., 0., 0., 0., 0., 0., 0., 0., 0., 0., 0., 0.,\n",
       "         0., 0., 0., 0., 0., 0., 0., 0., 0., 0., 0., 0., 0., 0., 0., 0.,\n",
       "         0., 0., 0., 0., 0., 0., 0., 0., 0., 0., 0., 0., 0., 0., 0., 0.,\n",
       "         0., 0., 0., 0., 0., 0., 0., 0., 0., 0., 0., 0., 0., 0., 0., 0.,\n",
       "         0., 0., 0., 0., 0., 0., 0., 0., 0., 0., 0., 0., 0., 0., 0., 0.,\n",
       "         0., 0., 0., 0., 0., 0., 0., 0., 0., 0., 0., 0., 0., 0., 0., 0.,\n",
       "         0., 0., 0., 0., 0., 0., 0., 0., 0., 0., 0., 0., 0., 0., 0., 0.,\n",
       "         0., 0., 0., 0., 0., 0., 0., 0., 0., 0., 0., 0., 0., 0., 0.],\n",
       "        [0., 0., 0., 0., 0., 0., 0., 0., 0., 0., 0., 0., 0., 0., 0., 0.,\n",
       "         0., 0., 0., 0., 0., 0., 0., 0., 0., 0., 0., 0., 0., 0., 0., 0.,\n",
       "         0., 0., 0., 0., 0., 0., 0., 0., 0., 0., 0., 0., 0., 0., 0., 0.,\n",
       "         0., 0., 0., 0., 0., 0., 0., 0., 0., 0., 0., 0., 0., 0., 0., 0.,\n",
       "         0., 0., 0., 0., 0., 0., 0., 0., 0., 0., 0., 0., 0., 0., 0., 0.,\n",
       "         0., 0., 0., 0., 0., 0., 0., 0., 0., 0., 0., 0., 0., 0., 0., 0.,\n",
       "         0., 0., 0., 0., 0., 0., 0., 0., 0., 0., 0., 0., 0., 0., 0., 0.,\n",
       "         0., 0., 0., 0., 0., 0., 0., 0., 0., 0., 0., 0., 0., 0., 0., 0.,\n",
       "         0., 0., 0., 0., 0., 0., 0., 0., 0., 0., 0., 0., 0., 0., 0., 0.,\n",
       "         0., 0., 0., 0., 0., 0., 0., 0., 0., 0., 0., 0., 0., 0., 0., 0.,\n",
       "         0., 0., 0., 0., 0., 0., 0., 0., 0., 0., 0., 0., 0., 0., 0.]])"
      ]
     },
     "execution_count": 264,
     "metadata": {},
     "output_type": "execute_result"
    }
   ],
   "source": [
    "encoded_MarketSegment_train.todense()[:2]"
   ]
  },
  {
   "cell_type": "code",
   "execution_count": 240,
   "id": "2dfab0d4",
   "metadata": {},
   "outputs": [
    {
     "data": {
      "text/html": [
       "<div>\n",
       "<style scoped>\n",
       "    .dataframe tbody tr th:only-of-type {\n",
       "        vertical-align: middle;\n",
       "    }\n",
       "\n",
       "    .dataframe tbody tr th {\n",
       "        vertical-align: top;\n",
       "    }\n",
       "\n",
       "    .dataframe thead th {\n",
       "        text-align: right;\n",
       "    }\n",
       "</style>\n",
       "<table border=\"1\" class=\"dataframe\">\n",
       "  <thead>\n",
       "    <tr style=\"text-align: right;\">\n",
       "      <th></th>\n",
       "      <th>Nationality</th>\n",
       "      <th>Age</th>\n",
       "      <th>DaysSinceCreation</th>\n",
       "      <th>LodgingRevenue</th>\n",
       "      <th>OtherRevenue</th>\n",
       "      <th>BookingsCanceled</th>\n",
       "      <th>BookingsNoShowed</th>\n",
       "      <th>BookingsCheckedIn</th>\n",
       "      <th>PersonsNights</th>\n",
       "      <th>RoomNights</th>\n",
       "      <th>...</th>\n",
       "      <th>SRBathtub</th>\n",
       "      <th>SRShower</th>\n",
       "      <th>SRCrib</th>\n",
       "      <th>SRKingSizeBed</th>\n",
       "      <th>SRTwinBed</th>\n",
       "      <th>SRNearElevator</th>\n",
       "      <th>SRAwayFromElevator</th>\n",
       "      <th>SRNoAlcoholInMiniBar</th>\n",
       "      <th>SRQuietRoom</th>\n",
       "      <th>0</th>\n",
       "    </tr>\n",
       "  </thead>\n",
       "  <tbody>\n",
       "    <tr>\n",
       "      <th>38532</th>\n",
       "      <td>NLD</td>\n",
       "      <td>53.0</td>\n",
       "      <td>446</td>\n",
       "      <td>1428.0</td>\n",
       "      <td>112.0</td>\n",
       "      <td>0</td>\n",
       "      <td>0</td>\n",
       "      <td>1</td>\n",
       "      <td>7</td>\n",
       "      <td>7</td>\n",
       "      <td>...</td>\n",
       "      <td>0</td>\n",
       "      <td>0</td>\n",
       "      <td>0</td>\n",
       "      <td>0</td>\n",
       "      <td>0</td>\n",
       "      <td>0</td>\n",
       "      <td>0</td>\n",
       "      <td>0</td>\n",
       "      <td>0</td>\n",
       "      <td>(0, 117)\\t1.0</td>\n",
       "    </tr>\n",
       "    <tr>\n",
       "      <th>71057</th>\n",
       "      <td>AUT</td>\n",
       "      <td>58.0</td>\n",
       "      <td>116</td>\n",
       "      <td>755.0</td>\n",
       "      <td>255.5</td>\n",
       "      <td>0</td>\n",
       "      <td>0</td>\n",
       "      <td>1</td>\n",
       "      <td>10</td>\n",
       "      <td>5</td>\n",
       "      <td>...</td>\n",
       "      <td>0</td>\n",
       "      <td>0</td>\n",
       "      <td>0</td>\n",
       "      <td>1</td>\n",
       "      <td>0</td>\n",
       "      <td>0</td>\n",
       "      <td>0</td>\n",
       "      <td>0</td>\n",
       "      <td>0</td>\n",
       "      <td>(0, 13)\\t1.0</td>\n",
       "    </tr>\n",
       "    <tr>\n",
       "      <th>59349</th>\n",
       "      <td>DEU</td>\n",
       "      <td>48.0</td>\n",
       "      <td>204</td>\n",
       "      <td>288.0</td>\n",
       "      <td>14.0</td>\n",
       "      <td>0</td>\n",
       "      <td>0</td>\n",
       "      <td>1</td>\n",
       "      <td>2</td>\n",
       "      <td>2</td>\n",
       "      <td>...</td>\n",
       "      <td>0</td>\n",
       "      <td>0</td>\n",
       "      <td>0</td>\n",
       "      <td>0</td>\n",
       "      <td>0</td>\n",
       "      <td>0</td>\n",
       "      <td>0</td>\n",
       "      <td>0</td>\n",
       "      <td>0</td>\n",
       "      <td>(0, 43)\\t1.0</td>\n",
       "    </tr>\n",
       "    <tr>\n",
       "      <th>68802</th>\n",
       "      <td>GBR</td>\n",
       "      <td>8.0</td>\n",
       "      <td>132</td>\n",
       "      <td>0.0</td>\n",
       "      <td>0.0</td>\n",
       "      <td>0</td>\n",
       "      <td>0</td>\n",
       "      <td>0</td>\n",
       "      <td>0</td>\n",
       "      <td>0</td>\n",
       "      <td>...</td>\n",
       "      <td>0</td>\n",
       "      <td>0</td>\n",
       "      <td>0</td>\n",
       "      <td>0</td>\n",
       "      <td>0</td>\n",
       "      <td>0</td>\n",
       "      <td>0</td>\n",
       "      <td>0</td>\n",
       "      <td>0</td>\n",
       "      <td>(0, 60)\\t1.0</td>\n",
       "    </tr>\n",
       "    <tr>\n",
       "      <th>47381</th>\n",
       "      <td>PRT</td>\n",
       "      <td>63.0</td>\n",
       "      <td>305</td>\n",
       "      <td>109.0</td>\n",
       "      <td>34.5</td>\n",
       "      <td>0</td>\n",
       "      <td>0</td>\n",
       "      <td>1</td>\n",
       "      <td>1</td>\n",
       "      <td>1</td>\n",
       "      <td>...</td>\n",
       "      <td>0</td>\n",
       "      <td>0</td>\n",
       "      <td>0</td>\n",
       "      <td>0</td>\n",
       "      <td>0</td>\n",
       "      <td>0</td>\n",
       "      <td>0</td>\n",
       "      <td>0</td>\n",
       "      <td>0</td>\n",
       "      <td>(0, 131)\\t1.0</td>\n",
       "    </tr>\n",
       "    <tr>\n",
       "      <th>...</th>\n",
       "      <td>...</td>\n",
       "      <td>...</td>\n",
       "      <td>...</td>\n",
       "      <td>...</td>\n",
       "      <td>...</td>\n",
       "      <td>...</td>\n",
       "      <td>...</td>\n",
       "      <td>...</td>\n",
       "      <td>...</td>\n",
       "      <td>...</td>\n",
       "      <td>...</td>\n",
       "      <td>...</td>\n",
       "      <td>...</td>\n",
       "      <td>...</td>\n",
       "      <td>...</td>\n",
       "      <td>...</td>\n",
       "      <td>...</td>\n",
       "      <td>...</td>\n",
       "      <td>...</td>\n",
       "      <td>...</td>\n",
       "      <td>...</td>\n",
       "    </tr>\n",
       "    <tr>\n",
       "      <th>32825</th>\n",
       "      <td>BRA</td>\n",
       "      <td>65.0</td>\n",
       "      <td>529</td>\n",
       "      <td>120.0</td>\n",
       "      <td>45.5</td>\n",
       "      <td>0</td>\n",
       "      <td>0</td>\n",
       "      <td>1</td>\n",
       "      <td>2</td>\n",
       "      <td>1</td>\n",
       "      <td>...</td>\n",
       "      <td>0</td>\n",
       "      <td>0</td>\n",
       "      <td>0</td>\n",
       "      <td>1</td>\n",
       "      <td>0</td>\n",
       "      <td>0</td>\n",
       "      <td>0</td>\n",
       "      <td>0</td>\n",
       "      <td>0</td>\n",
       "      <td>(0, 24)\\t1.0</td>\n",
       "    </tr>\n",
       "    <tr>\n",
       "      <th>32451</th>\n",
       "      <td>DEU</td>\n",
       "      <td>80.0</td>\n",
       "      <td>534</td>\n",
       "      <td>139.0</td>\n",
       "      <td>54.0</td>\n",
       "      <td>0</td>\n",
       "      <td>0</td>\n",
       "      <td>1</td>\n",
       "      <td>2</td>\n",
       "      <td>2</td>\n",
       "      <td>...</td>\n",
       "      <td>0</td>\n",
       "      <td>0</td>\n",
       "      <td>0</td>\n",
       "      <td>0</td>\n",
       "      <td>0</td>\n",
       "      <td>0</td>\n",
       "      <td>0</td>\n",
       "      <td>0</td>\n",
       "      <td>0</td>\n",
       "      <td>(0, 43)\\t1.0</td>\n",
       "    </tr>\n",
       "    <tr>\n",
       "      <th>24404</th>\n",
       "      <td>FRA</td>\n",
       "      <td>48.0</td>\n",
       "      <td>652</td>\n",
       "      <td>79.2</td>\n",
       "      <td>22.0</td>\n",
       "      <td>0</td>\n",
       "      <td>0</td>\n",
       "      <td>1</td>\n",
       "      <td>2</td>\n",
       "      <td>1</td>\n",
       "      <td>...</td>\n",
       "      <td>0</td>\n",
       "      <td>0</td>\n",
       "      <td>0</td>\n",
       "      <td>0</td>\n",
       "      <td>0</td>\n",
       "      <td>0</td>\n",
       "      <td>0</td>\n",
       "      <td>0</td>\n",
       "      <td>0</td>\n",
       "      <td>(0, 57)\\t1.0</td>\n",
       "    </tr>\n",
       "    <tr>\n",
       "      <th>41974</th>\n",
       "      <td>DEU</td>\n",
       "      <td>63.0</td>\n",
       "      <td>392</td>\n",
       "      <td>198.0</td>\n",
       "      <td>4.0</td>\n",
       "      <td>0</td>\n",
       "      <td>0</td>\n",
       "      <td>1</td>\n",
       "      <td>4</td>\n",
       "      <td>2</td>\n",
       "      <td>...</td>\n",
       "      <td>0</td>\n",
       "      <td>0</td>\n",
       "      <td>0</td>\n",
       "      <td>0</td>\n",
       "      <td>1</td>\n",
       "      <td>0</td>\n",
       "      <td>0</td>\n",
       "      <td>0</td>\n",
       "      <td>0</td>\n",
       "      <td>(0, 43)\\t1.0</td>\n",
       "    </tr>\n",
       "    <tr>\n",
       "      <th>29288</th>\n",
       "      <td>PRT</td>\n",
       "      <td>68.0</td>\n",
       "      <td>581</td>\n",
       "      <td>176.0</td>\n",
       "      <td>84.0</td>\n",
       "      <td>0</td>\n",
       "      <td>0</td>\n",
       "      <td>1</td>\n",
       "      <td>4</td>\n",
       "      <td>2</td>\n",
       "      <td>...</td>\n",
       "      <td>0</td>\n",
       "      <td>0</td>\n",
       "      <td>0</td>\n",
       "      <td>0</td>\n",
       "      <td>1</td>\n",
       "      <td>0</td>\n",
       "      <td>0</td>\n",
       "      <td>0</td>\n",
       "      <td>0</td>\n",
       "      <td>(0, 131)\\t1.0</td>\n",
       "    </tr>\n",
       "  </tbody>\n",
       "</table>\n",
       "<p>59807 rows × 28 columns</p>\n",
       "</div>"
      ],
      "text/plain": [
       "      Nationality   Age  DaysSinceCreation  LodgingRevenue  OtherRevenue  \\\n",
       "38532         NLD  53.0                446          1428.0         112.0   \n",
       "71057         AUT  58.0                116           755.0         255.5   \n",
       "59349         DEU  48.0                204           288.0          14.0   \n",
       "68802         GBR   8.0                132             0.0           0.0   \n",
       "47381         PRT  63.0                305           109.0          34.5   \n",
       "...           ...   ...                ...             ...           ...   \n",
       "32825         BRA  65.0                529           120.0          45.5   \n",
       "32451         DEU  80.0                534           139.0          54.0   \n",
       "24404         FRA  48.0                652            79.2          22.0   \n",
       "41974         DEU  63.0                392           198.0           4.0   \n",
       "29288         PRT  68.0                581           176.0          84.0   \n",
       "\n",
       "       BookingsCanceled  BookingsNoShowed  BookingsCheckedIn  PersonsNights  \\\n",
       "38532                 0                 0                  1              7   \n",
       "71057                 0                 0                  1             10   \n",
       "59349                 0                 0                  1              2   \n",
       "68802                 0                 0                  0              0   \n",
       "47381                 0                 0                  1              1   \n",
       "...                 ...               ...                ...            ...   \n",
       "32825                 0                 0                  1              2   \n",
       "32451                 0                 0                  1              2   \n",
       "24404                 0                 0                  1              2   \n",
       "41974                 0                 0                  1              4   \n",
       "29288                 0                 0                  1              4   \n",
       "\n",
       "       RoomNights  ...  SRBathtub  SRShower SRCrib SRKingSizeBed  SRTwinBed  \\\n",
       "38532           7  ...          0         0      0             0          0   \n",
       "71057           5  ...          0         0      0             1          0   \n",
       "59349           2  ...          0         0      0             0          0   \n",
       "68802           0  ...          0         0      0             0          0   \n",
       "47381           1  ...          0         0      0             0          0   \n",
       "...           ...  ...        ...       ...    ...           ...        ...   \n",
       "32825           1  ...          0         0      0             1          0   \n",
       "32451           2  ...          0         0      0             0          0   \n",
       "24404           1  ...          0         0      0             0          0   \n",
       "41974           2  ...          0         0      0             0          1   \n",
       "29288           2  ...          0         0      0             0          1   \n",
       "\n",
       "       SRNearElevator  SRAwayFromElevator  SRNoAlcoholInMiniBar  SRQuietRoom  \\\n",
       "38532               0                   0                     0            0   \n",
       "71057               0                   0                     0            0   \n",
       "59349               0                   0                     0            0   \n",
       "68802               0                   0                     0            0   \n",
       "47381               0                   0                     0            0   \n",
       "...               ...                 ...                   ...          ...   \n",
       "32825               0                   0                     0            0   \n",
       "32451               0                   0                     0            0   \n",
       "24404               0                   0                     0            0   \n",
       "41974               0                   0                     0            0   \n",
       "29288               0                   0                     0            0   \n",
       "\n",
       "                     0  \n",
       "38532    (0, 117)\\t1.0  \n",
       "71057     (0, 13)\\t1.0  \n",
       "59349     (0, 43)\\t1.0  \n",
       "68802     (0, 60)\\t1.0  \n",
       "47381    (0, 131)\\t1.0  \n",
       "...                ...  \n",
       "32825     (0, 24)\\t1.0  \n",
       "32451     (0, 43)\\t1.0  \n",
       "24404     (0, 57)\\t1.0  \n",
       "41974     (0, 43)\\t1.0  \n",
       "29288    (0, 131)\\t1.0  \n",
       "\n",
       "[59807 rows x 28 columns]"
      ]
     },
     "execution_count": 240,
     "metadata": {},
     "output_type": "execute_result"
    }
   ],
   "source": [
    "encoded_Nationality_train = pd.DataFrame(encoded_Nationality_train, index=X_train.index)\n",
    "pd.concat([X_train, encoded_Nationality_train], axis=1)"
   ]
  },
  {
   "cell_type": "code",
   "execution_count": 241,
   "id": "134c2ea0",
   "metadata": {},
   "outputs": [
    {
     "data": {
      "text/html": [
       "<div>\n",
       "<style scoped>\n",
       "    .dataframe tbody tr th:only-of-type {\n",
       "        vertical-align: middle;\n",
       "    }\n",
       "\n",
       "    .dataframe tbody tr th {\n",
       "        vertical-align: top;\n",
       "    }\n",
       "\n",
       "    .dataframe thead th {\n",
       "        text-align: right;\n",
       "    }\n",
       "</style>\n",
       "<table border=\"1\" class=\"dataframe\">\n",
       "  <thead>\n",
       "    <tr style=\"text-align: right;\">\n",
       "      <th></th>\n",
       "      <th>Nationality</th>\n",
       "      <th>Age</th>\n",
       "      <th>DaysSinceCreation</th>\n",
       "      <th>LodgingRevenue</th>\n",
       "      <th>OtherRevenue</th>\n",
       "      <th>BookingsCanceled</th>\n",
       "      <th>BookingsNoShowed</th>\n",
       "      <th>BookingsCheckedIn</th>\n",
       "      <th>PersonsNights</th>\n",
       "      <th>RoomNights</th>\n",
       "      <th>...</th>\n",
       "      <th>165</th>\n",
       "      <th>166</th>\n",
       "      <th>167</th>\n",
       "      <th>168</th>\n",
       "      <th>169</th>\n",
       "      <th>170</th>\n",
       "      <th>171</th>\n",
       "      <th>172</th>\n",
       "      <th>173</th>\n",
       "      <th>174</th>\n",
       "    </tr>\n",
       "  </thead>\n",
       "  <tbody>\n",
       "    <tr>\n",
       "      <th>31946</th>\n",
       "      <td>CHE</td>\n",
       "      <td>33.0</td>\n",
       "      <td>542</td>\n",
       "      <td>126.00</td>\n",
       "      <td>14.0</td>\n",
       "      <td>0</td>\n",
       "      <td>0</td>\n",
       "      <td>1</td>\n",
       "      <td>2</td>\n",
       "      <td>1</td>\n",
       "      <td>...</td>\n",
       "      <td>0.0</td>\n",
       "      <td>0.0</td>\n",
       "      <td>0.0</td>\n",
       "      <td>0.0</td>\n",
       "      <td>0.0</td>\n",
       "      <td>0.0</td>\n",
       "      <td>0.0</td>\n",
       "      <td>0.0</td>\n",
       "      <td>0.0</td>\n",
       "      <td>0.0</td>\n",
       "    </tr>\n",
       "    <tr>\n",
       "      <th>80806</th>\n",
       "      <td>PRT</td>\n",
       "      <td>5.0</td>\n",
       "      <td>36</td>\n",
       "      <td>0.00</td>\n",
       "      <td>0.0</td>\n",
       "      <td>0</td>\n",
       "      <td>0</td>\n",
       "      <td>0</td>\n",
       "      <td>0</td>\n",
       "      <td>0</td>\n",
       "      <td>...</td>\n",
       "      <td>0.0</td>\n",
       "      <td>0.0</td>\n",
       "      <td>0.0</td>\n",
       "      <td>0.0</td>\n",
       "      <td>0.0</td>\n",
       "      <td>0.0</td>\n",
       "      <td>0.0</td>\n",
       "      <td>0.0</td>\n",
       "      <td>0.0</td>\n",
       "      <td>0.0</td>\n",
       "    </tr>\n",
       "    <tr>\n",
       "      <th>2701</th>\n",
       "      <td>PRT</td>\n",
       "      <td>64.0</td>\n",
       "      <td>1025</td>\n",
       "      <td>318.75</td>\n",
       "      <td>292.5</td>\n",
       "      <td>0</td>\n",
       "      <td>0</td>\n",
       "      <td>1</td>\n",
       "      <td>10</td>\n",
       "      <td>5</td>\n",
       "      <td>...</td>\n",
       "      <td>0.0</td>\n",
       "      <td>0.0</td>\n",
       "      <td>0.0</td>\n",
       "      <td>0.0</td>\n",
       "      <td>0.0</td>\n",
       "      <td>0.0</td>\n",
       "      <td>0.0</td>\n",
       "      <td>0.0</td>\n",
       "      <td>0.0</td>\n",
       "      <td>0.0</td>\n",
       "    </tr>\n",
       "    <tr>\n",
       "      <th>658</th>\n",
       "      <td>FRA</td>\n",
       "      <td>55.0</td>\n",
       "      <td>1071</td>\n",
       "      <td>138.00</td>\n",
       "      <td>126.5</td>\n",
       "      <td>0</td>\n",
       "      <td>0</td>\n",
       "      <td>1</td>\n",
       "      <td>6</td>\n",
       "      <td>3</td>\n",
       "      <td>...</td>\n",
       "      <td>0.0</td>\n",
       "      <td>0.0</td>\n",
       "      <td>0.0</td>\n",
       "      <td>0.0</td>\n",
       "      <td>0.0</td>\n",
       "      <td>0.0</td>\n",
       "      <td>0.0</td>\n",
       "      <td>0.0</td>\n",
       "      <td>0.0</td>\n",
       "      <td>0.0</td>\n",
       "    </tr>\n",
       "    <tr>\n",
       "      <th>77138</th>\n",
       "      <td>USA</td>\n",
       "      <td>71.0</td>\n",
       "      <td>72</td>\n",
       "      <td>411.00</td>\n",
       "      <td>129.5</td>\n",
       "      <td>0</td>\n",
       "      <td>0</td>\n",
       "      <td>1</td>\n",
       "      <td>6</td>\n",
       "      <td>3</td>\n",
       "      <td>...</td>\n",
       "      <td>0.0</td>\n",
       "      <td>0.0</td>\n",
       "      <td>1.0</td>\n",
       "      <td>0.0</td>\n",
       "      <td>0.0</td>\n",
       "      <td>0.0</td>\n",
       "      <td>0.0</td>\n",
       "      <td>0.0</td>\n",
       "      <td>0.0</td>\n",
       "      <td>0.0</td>\n",
       "    </tr>\n",
       "  </tbody>\n",
       "</table>\n",
       "<p>5 rows × 202 columns</p>\n",
       "</div>"
      ],
      "text/plain": [
       "      Nationality   Age  DaysSinceCreation  LodgingRevenue  OtherRevenue  \\\n",
       "31946         CHE  33.0                542          126.00          14.0   \n",
       "80806         PRT   5.0                 36            0.00           0.0   \n",
       "2701          PRT  64.0               1025          318.75         292.5   \n",
       "658           FRA  55.0               1071          138.00         126.5   \n",
       "77138         USA  71.0                 72          411.00         129.5   \n",
       "\n",
       "       BookingsCanceled  BookingsNoShowed  BookingsCheckedIn  PersonsNights  \\\n",
       "31946                 0                 0                  1              2   \n",
       "80806                 0                 0                  0              0   \n",
       "2701                  0                 0                  1             10   \n",
       "658                   0                 0                  1              6   \n",
       "77138                 0                 0                  1              6   \n",
       "\n",
       "       RoomNights  ...  165  166  167  168  169  170  171  172  173  174  \n",
       "31946           1  ...  0.0  0.0  0.0  0.0  0.0  0.0  0.0  0.0  0.0  0.0  \n",
       "80806           0  ...  0.0  0.0  0.0  0.0  0.0  0.0  0.0  0.0  0.0  0.0  \n",
       "2701            5  ...  0.0  0.0  0.0  0.0  0.0  0.0  0.0  0.0  0.0  0.0  \n",
       "658             3  ...  0.0  0.0  0.0  0.0  0.0  0.0  0.0  0.0  0.0  0.0  \n",
       "77138           3  ...  0.0  0.0  1.0  0.0  0.0  0.0  0.0  0.0  0.0  0.0  \n",
       "\n",
       "[5 rows x 202 columns]"
      ]
     },
     "execution_count": 241,
     "metadata": {},
     "output_type": "execute_result"
    }
   ],
   "source": [
    "Nationality_ohe_test = ohe.transform(X_test[[\"Nationality\"]]).todense()\n",
    "Nationality_ohe_test = pd.DataFrame(Nationality_ohe_test, index=X_test.index)\n",
    "pd.concat([X_test, Nationality_ohe_test], axis=1).head()"
   ]
  },
  {
   "cell_type": "code",
   "execution_count": 242,
   "id": "bffc2707",
   "metadata": {},
   "outputs": [
    {
     "data": {
      "text/html": [
       "<div>\n",
       "<style scoped>\n",
       "    .dataframe tbody tr th:only-of-type {\n",
       "        vertical-align: middle;\n",
       "    }\n",
       "\n",
       "    .dataframe tbody tr th {\n",
       "        vertical-align: top;\n",
       "    }\n",
       "\n",
       "    .dataframe thead th {\n",
       "        text-align: right;\n",
       "    }\n",
       "</style>\n",
       "<table border=\"1\" class=\"dataframe\">\n",
       "  <thead>\n",
       "    <tr style=\"text-align: right;\">\n",
       "      <th></th>\n",
       "      <th>Age</th>\n",
       "      <th>DaysSinceCreation</th>\n",
       "      <th>LodgingRevenue</th>\n",
       "      <th>OtherRevenue</th>\n",
       "      <th>BookingsCanceled</th>\n",
       "      <th>BookingsNoShowed</th>\n",
       "      <th>BookingsCheckedIn</th>\n",
       "      <th>PersonsNights</th>\n",
       "      <th>RoomNights</th>\n",
       "      <th>DaysSinceLastStay</th>\n",
       "      <th>...</th>\n",
       "      <th>SRQuietRoom</th>\n",
       "      <th>Nationality_CHE</th>\n",
       "      <th>Nationality_FRA</th>\n",
       "      <th>Nationality_PRT</th>\n",
       "      <th>Nationality_USA</th>\n",
       "      <th>DistributionChannel_Direct</th>\n",
       "      <th>DistributionChannel_Travel Agent/Operator</th>\n",
       "      <th>MarketSegment_Direct</th>\n",
       "      <th>MarketSegment_Other</th>\n",
       "      <th>MarketSegment_Travel Agent/Operator</th>\n",
       "    </tr>\n",
       "  </thead>\n",
       "  <tbody>\n",
       "    <tr>\n",
       "      <th>31946</th>\n",
       "      <td>33.0</td>\n",
       "      <td>542</td>\n",
       "      <td>126.00</td>\n",
       "      <td>14.0</td>\n",
       "      <td>0</td>\n",
       "      <td>0</td>\n",
       "      <td>1</td>\n",
       "      <td>2</td>\n",
       "      <td>1</td>\n",
       "      <td>543</td>\n",
       "      <td>...</td>\n",
       "      <td>0</td>\n",
       "      <td>1</td>\n",
       "      <td>0</td>\n",
       "      <td>0</td>\n",
       "      <td>0</td>\n",
       "      <td>0</td>\n",
       "      <td>1</td>\n",
       "      <td>0</td>\n",
       "      <td>1</td>\n",
       "      <td>0</td>\n",
       "    </tr>\n",
       "    <tr>\n",
       "      <th>80806</th>\n",
       "      <td>5.0</td>\n",
       "      <td>36</td>\n",
       "      <td>0.00</td>\n",
       "      <td>0.0</td>\n",
       "      <td>0</td>\n",
       "      <td>0</td>\n",
       "      <td>0</td>\n",
       "      <td>0</td>\n",
       "      <td>0</td>\n",
       "      <td>-1</td>\n",
       "      <td>...</td>\n",
       "      <td>0</td>\n",
       "      <td>0</td>\n",
       "      <td>0</td>\n",
       "      <td>1</td>\n",
       "      <td>0</td>\n",
       "      <td>1</td>\n",
       "      <td>0</td>\n",
       "      <td>1</td>\n",
       "      <td>0</td>\n",
       "      <td>0</td>\n",
       "    </tr>\n",
       "    <tr>\n",
       "      <th>2701</th>\n",
       "      <td>64.0</td>\n",
       "      <td>1025</td>\n",
       "      <td>318.75</td>\n",
       "      <td>292.5</td>\n",
       "      <td>0</td>\n",
       "      <td>0</td>\n",
       "      <td>1</td>\n",
       "      <td>10</td>\n",
       "      <td>5</td>\n",
       "      <td>1030</td>\n",
       "      <td>...</td>\n",
       "      <td>0</td>\n",
       "      <td>0</td>\n",
       "      <td>0</td>\n",
       "      <td>1</td>\n",
       "      <td>0</td>\n",
       "      <td>0</td>\n",
       "      <td>1</td>\n",
       "      <td>0</td>\n",
       "      <td>1</td>\n",
       "      <td>0</td>\n",
       "    </tr>\n",
       "    <tr>\n",
       "      <th>658</th>\n",
       "      <td>55.0</td>\n",
       "      <td>1071</td>\n",
       "      <td>138.00</td>\n",
       "      <td>126.5</td>\n",
       "      <td>0</td>\n",
       "      <td>0</td>\n",
       "      <td>1</td>\n",
       "      <td>6</td>\n",
       "      <td>3</td>\n",
       "      <td>1074</td>\n",
       "      <td>...</td>\n",
       "      <td>0</td>\n",
       "      <td>0</td>\n",
       "      <td>1</td>\n",
       "      <td>0</td>\n",
       "      <td>0</td>\n",
       "      <td>0</td>\n",
       "      <td>1</td>\n",
       "      <td>0</td>\n",
       "      <td>0</td>\n",
       "      <td>1</td>\n",
       "    </tr>\n",
       "    <tr>\n",
       "      <th>77138</th>\n",
       "      <td>71.0</td>\n",
       "      <td>72</td>\n",
       "      <td>411.00</td>\n",
       "      <td>129.5</td>\n",
       "      <td>0</td>\n",
       "      <td>0</td>\n",
       "      <td>1</td>\n",
       "      <td>6</td>\n",
       "      <td>3</td>\n",
       "      <td>75</td>\n",
       "      <td>...</td>\n",
       "      <td>1</td>\n",
       "      <td>0</td>\n",
       "      <td>0</td>\n",
       "      <td>0</td>\n",
       "      <td>1</td>\n",
       "      <td>0</td>\n",
       "      <td>1</td>\n",
       "      <td>0</td>\n",
       "      <td>1</td>\n",
       "      <td>0</td>\n",
       "    </tr>\n",
       "  </tbody>\n",
       "</table>\n",
       "<p>5 rows × 33 columns</p>\n",
       "</div>"
      ],
      "text/plain": [
       "        Age  DaysSinceCreation  LodgingRevenue  OtherRevenue  \\\n",
       "31946  33.0                542          126.00          14.0   \n",
       "80806   5.0                 36            0.00           0.0   \n",
       "2701   64.0               1025          318.75         292.5   \n",
       "658    55.0               1071          138.00         126.5   \n",
       "77138  71.0                 72          411.00         129.5   \n",
       "\n",
       "       BookingsCanceled  BookingsNoShowed  BookingsCheckedIn  PersonsNights  \\\n",
       "31946                 0                 0                  1              2   \n",
       "80806                 0                 0                  0              0   \n",
       "2701                  0                 0                  1             10   \n",
       "658                   0                 0                  1              6   \n",
       "77138                 0                 0                  1              6   \n",
       "\n",
       "       RoomNights  DaysSinceLastStay  ...  SRQuietRoom  Nationality_CHE  \\\n",
       "31946           1                543  ...            0                1   \n",
       "80806           0                 -1  ...            0                0   \n",
       "2701            5               1030  ...            0                0   \n",
       "658             3               1074  ...            0                0   \n",
       "77138           3                 75  ...            1                0   \n",
       "\n",
       "       Nationality_FRA  Nationality_PRT  Nationality_USA  \\\n",
       "31946                0                0                0   \n",
       "80806                0                1                0   \n",
       "2701                 0                1                0   \n",
       "658                  1                0                0   \n",
       "77138                0                0                1   \n",
       "\n",
       "       DistributionChannel_Direct  DistributionChannel_Travel Agent/Operator  \\\n",
       "31946                           0                                          1   \n",
       "80806                           1                                          0   \n",
       "2701                            0                                          1   \n",
       "658                             0                                          1   \n",
       "77138                           0                                          1   \n",
       "\n",
       "       MarketSegment_Direct  MarketSegment_Other  \\\n",
       "31946                     0                    1   \n",
       "80806                     1                    0   \n",
       "2701                      0                    1   \n",
       "658                       0                    0   \n",
       "77138                     0                    1   \n",
       "\n",
       "       MarketSegment_Travel Agent/Operator  \n",
       "31946                                    0  \n",
       "80806                                    0  \n",
       "2701                                     0  \n",
       "658                                      1  \n",
       "77138                                    0  \n",
       "\n",
       "[5 rows x 33 columns]"
      ]
     },
     "execution_count": 242,
     "metadata": {},
     "output_type": "execute_result"
    }
   ],
   "source": [
    "pd.get_dummies(X_test.iloc[:5])"
   ]
  },
  {
   "cell_type": "code",
   "execution_count": 213,
   "id": "48346177",
   "metadata": {},
   "outputs": [
    {
     "data": {
      "text/plain": [
       "matrix([[0., 0., 0., 0., 0., 0., 0., 0., 0., 0., 0., 0., 0., 0., 0., 0.,\n",
       "         0., 0., 0., 0., 0., 0., 0., 0., 0., 0., 0., 0., 0., 0., 0., 0.,\n",
       "         0., 0., 0., 0., 0., 0., 0., 0., 0., 0., 0., 0., 0., 0., 0., 0.,\n",
       "         0., 0., 0., 0., 0., 0., 0., 0., 0., 0., 1., 0., 0., 0., 0., 0.,\n",
       "         0., 0., 0., 0., 0., 0., 0., 0., 0., 0., 0., 0., 0., 0., 0., 0.,\n",
       "         0., 0., 0., 0., 0., 0., 0., 0., 0., 0., 0., 0., 0., 0., 0., 0.,\n",
       "         0., 0., 0., 0., 0., 0., 0., 0., 0., 0., 0., 0., 0., 0., 0., 0.,\n",
       "         0., 0., 0., 0., 0., 0., 0., 0., 0., 0., 0., 0., 0., 0., 0., 0.,\n",
       "         0., 0., 0., 0., 0., 0., 0., 0., 0., 0., 0., 0., 0., 0., 0., 0.,\n",
       "         0., 0., 0., 0., 0., 0., 0., 0., 0., 0., 0., 0., 0., 0., 0., 0.,\n",
       "         0., 0., 0., 0., 0., 0., 0., 0., 0., 0., 0., 0., 0., 0., 0., 0.,\n",
       "         0., 0.],\n",
       "        [0., 0., 0., 0., 0., 0., 0., 0., 0., 0., 0., 0., 0., 0., 0., 0.,\n",
       "         0., 0., 0., 0., 0., 0., 0., 0., 0., 0., 0., 0., 0., 0., 0., 0.,\n",
       "         0., 0., 0., 0., 0., 0., 0., 0., 0., 0., 0., 0., 0., 0., 0., 0.,\n",
       "         0., 0., 0., 0., 0., 0., 0., 1., 0., 0., 0., 0., 0., 0., 0., 0.,\n",
       "         0., 0., 0., 0., 0., 0., 0., 0., 0., 0., 0., 0., 0., 0., 0., 0.,\n",
       "         0., 0., 0., 0., 0., 0., 0., 0., 0., 0., 0., 0., 0., 0., 0., 0.,\n",
       "         0., 0., 0., 0., 0., 0., 0., 0., 0., 0., 0., 0., 0., 0., 0., 0.,\n",
       "         0., 0., 0., 0., 0., 0., 0., 0., 0., 0., 0., 0., 0., 0., 0., 0.,\n",
       "         0., 0., 0., 0., 0., 0., 0., 0., 0., 0., 0., 0., 0., 0., 0., 0.,\n",
       "         0., 0., 0., 0., 0., 0., 0., 0., 0., 0., 0., 0., 0., 0., 0., 0.,\n",
       "         0., 0., 0., 0., 0., 0., 0., 0., 0., 0., 0., 0., 0., 0., 0., 0.,\n",
       "         0., 0.]])"
      ]
     },
     "execution_count": 213,
     "metadata": {},
     "output_type": "execute_result"
    }
   ],
   "source": [
    "ohe.transform(X_test.iloc[:2][[\"Nationality\"]]).todense()"
   ]
  },
  {
   "cell_type": "markdown",
   "id": "eb161d19",
   "metadata": {},
   "source": [
    "It is important to use the same instance of encoder. We will use pd.get_dummies."
   ]
  },
  {
   "cell_type": "code",
   "execution_count": 244,
   "id": "f49c17e5",
   "metadata": {},
   "outputs": [],
   "source": [
    "X_dummies = pd.get_dummies(X, columns=[\"Nationality\", \"DistributionChannel\",\"MarketSegment\"])"
   ]
  },
  {
   "cell_type": "code",
   "execution_count": 245,
   "id": "993e1197",
   "metadata": {},
   "outputs": [
    {
     "data": {
      "text/html": [
       "<div>\n",
       "<style scoped>\n",
       "    .dataframe tbody tr th:only-of-type {\n",
       "        vertical-align: middle;\n",
       "    }\n",
       "\n",
       "    .dataframe tbody tr th {\n",
       "        vertical-align: top;\n",
       "    }\n",
       "\n",
       "    .dataframe thead th {\n",
       "        text-align: right;\n",
       "    }\n",
       "</style>\n",
       "<table border=\"1\" class=\"dataframe\">\n",
       "  <thead>\n",
       "    <tr style=\"text-align: right;\">\n",
       "      <th></th>\n",
       "      <th>Age</th>\n",
       "      <th>DaysSinceCreation</th>\n",
       "      <th>LodgingRevenue</th>\n",
       "      <th>OtherRevenue</th>\n",
       "      <th>BookingsCanceled</th>\n",
       "      <th>BookingsNoShowed</th>\n",
       "      <th>BookingsCheckedIn</th>\n",
       "      <th>PersonsNights</th>\n",
       "      <th>RoomNights</th>\n",
       "      <th>DaysSinceLastStay</th>\n",
       "      <th>...</th>\n",
       "      <th>DistributionChannel_Direct</th>\n",
       "      <th>DistributionChannel_Electronic Distribution</th>\n",
       "      <th>DistributionChannel_Travel Agent/Operator</th>\n",
       "      <th>MarketSegment_Aviation</th>\n",
       "      <th>MarketSegment_Complementary</th>\n",
       "      <th>MarketSegment_Corporate</th>\n",
       "      <th>MarketSegment_Direct</th>\n",
       "      <th>MarketSegment_Groups</th>\n",
       "      <th>MarketSegment_Other</th>\n",
       "      <th>MarketSegment_Travel Agent/Operator</th>\n",
       "    </tr>\n",
       "  </thead>\n",
       "  <tbody>\n",
       "    <tr>\n",
       "      <th>0</th>\n",
       "      <td>51.0</td>\n",
       "      <td>150</td>\n",
       "      <td>371.0</td>\n",
       "      <td>105.3</td>\n",
       "      <td>1</td>\n",
       "      <td>0</td>\n",
       "      <td>3</td>\n",
       "      <td>8</td>\n",
       "      <td>5</td>\n",
       "      <td>151</td>\n",
       "      <td>...</td>\n",
       "      <td>0</td>\n",
       "      <td>0</td>\n",
       "      <td>0</td>\n",
       "      <td>0</td>\n",
       "      <td>0</td>\n",
       "      <td>1</td>\n",
       "      <td>0</td>\n",
       "      <td>0</td>\n",
       "      <td>0</td>\n",
       "      <td>0</td>\n",
       "    </tr>\n",
       "    <tr>\n",
       "      <th>2</th>\n",
       "      <td>31.0</td>\n",
       "      <td>1095</td>\n",
       "      <td>0.0</td>\n",
       "      <td>0.0</td>\n",
       "      <td>0</td>\n",
       "      <td>0</td>\n",
       "      <td>0</td>\n",
       "      <td>0</td>\n",
       "      <td>0</td>\n",
       "      <td>-1</td>\n",
       "      <td>...</td>\n",
       "      <td>0</td>\n",
       "      <td>0</td>\n",
       "      <td>1</td>\n",
       "      <td>0</td>\n",
       "      <td>0</td>\n",
       "      <td>0</td>\n",
       "      <td>0</td>\n",
       "      <td>0</td>\n",
       "      <td>0</td>\n",
       "      <td>1</td>\n",
       "    </tr>\n",
       "    <tr>\n",
       "      <th>3</th>\n",
       "      <td>60.0</td>\n",
       "      <td>1095</td>\n",
       "      <td>240.0</td>\n",
       "      <td>60.0</td>\n",
       "      <td>0</td>\n",
       "      <td>0</td>\n",
       "      <td>1</td>\n",
       "      <td>10</td>\n",
       "      <td>5</td>\n",
       "      <td>1100</td>\n",
       "      <td>...</td>\n",
       "      <td>0</td>\n",
       "      <td>0</td>\n",
       "      <td>1</td>\n",
       "      <td>0</td>\n",
       "      <td>0</td>\n",
       "      <td>0</td>\n",
       "      <td>0</td>\n",
       "      <td>0</td>\n",
       "      <td>0</td>\n",
       "      <td>1</td>\n",
       "    </tr>\n",
       "    <tr>\n",
       "      <th>4</th>\n",
       "      <td>51.0</td>\n",
       "      <td>1095</td>\n",
       "      <td>0.0</td>\n",
       "      <td>0.0</td>\n",
       "      <td>0</td>\n",
       "      <td>0</td>\n",
       "      <td>0</td>\n",
       "      <td>0</td>\n",
       "      <td>0</td>\n",
       "      <td>-1</td>\n",
       "      <td>...</td>\n",
       "      <td>0</td>\n",
       "      <td>0</td>\n",
       "      <td>1</td>\n",
       "      <td>0</td>\n",
       "      <td>0</td>\n",
       "      <td>0</td>\n",
       "      <td>0</td>\n",
       "      <td>0</td>\n",
       "      <td>0</td>\n",
       "      <td>1</td>\n",
       "    </tr>\n",
       "    <tr>\n",
       "      <th>5</th>\n",
       "      <td>54.0</td>\n",
       "      <td>1095</td>\n",
       "      <td>230.0</td>\n",
       "      <td>24.0</td>\n",
       "      <td>0</td>\n",
       "      <td>0</td>\n",
       "      <td>1</td>\n",
       "      <td>4</td>\n",
       "      <td>2</td>\n",
       "      <td>1097</td>\n",
       "      <td>...</td>\n",
       "      <td>0</td>\n",
       "      <td>0</td>\n",
       "      <td>1</td>\n",
       "      <td>0</td>\n",
       "      <td>0</td>\n",
       "      <td>0</td>\n",
       "      <td>0</td>\n",
       "      <td>0</td>\n",
       "      <td>1</td>\n",
       "      <td>0</td>\n",
       "    </tr>\n",
       "    <tr>\n",
       "      <th>...</th>\n",
       "      <td>...</td>\n",
       "      <td>...</td>\n",
       "      <td>...</td>\n",
       "      <td>...</td>\n",
       "      <td>...</td>\n",
       "      <td>...</td>\n",
       "      <td>...</td>\n",
       "      <td>...</td>\n",
       "      <td>...</td>\n",
       "      <td>...</td>\n",
       "      <td>...</td>\n",
       "      <td>...</td>\n",
       "      <td>...</td>\n",
       "      <td>...</td>\n",
       "      <td>...</td>\n",
       "      <td>...</td>\n",
       "      <td>...</td>\n",
       "      <td>...</td>\n",
       "      <td>...</td>\n",
       "      <td>...</td>\n",
       "      <td>...</td>\n",
       "    </tr>\n",
       "    <tr>\n",
       "      <th>83585</th>\n",
       "      <td>54.0</td>\n",
       "      <td>0</td>\n",
       "      <td>0.0</td>\n",
       "      <td>0.0</td>\n",
       "      <td>0</td>\n",
       "      <td>0</td>\n",
       "      <td>0</td>\n",
       "      <td>0</td>\n",
       "      <td>0</td>\n",
       "      <td>-1</td>\n",
       "      <td>...</td>\n",
       "      <td>0</td>\n",
       "      <td>0</td>\n",
       "      <td>1</td>\n",
       "      <td>0</td>\n",
       "      <td>0</td>\n",
       "      <td>0</td>\n",
       "      <td>0</td>\n",
       "      <td>0</td>\n",
       "      <td>1</td>\n",
       "      <td>0</td>\n",
       "    </tr>\n",
       "    <tr>\n",
       "      <th>83586</th>\n",
       "      <td>47.0</td>\n",
       "      <td>0</td>\n",
       "      <td>327.1</td>\n",
       "      <td>277.5</td>\n",
       "      <td>0</td>\n",
       "      <td>0</td>\n",
       "      <td>1</td>\n",
       "      <td>6</td>\n",
       "      <td>3</td>\n",
       "      <td>3</td>\n",
       "      <td>...</td>\n",
       "      <td>0</td>\n",
       "      <td>0</td>\n",
       "      <td>1</td>\n",
       "      <td>0</td>\n",
       "      <td>0</td>\n",
       "      <td>0</td>\n",
       "      <td>0</td>\n",
       "      <td>0</td>\n",
       "      <td>1</td>\n",
       "      <td>0</td>\n",
       "    </tr>\n",
       "    <tr>\n",
       "      <th>83587</th>\n",
       "      <td>53.0</td>\n",
       "      <td>0</td>\n",
       "      <td>0.0</td>\n",
       "      <td>0.0</td>\n",
       "      <td>0</td>\n",
       "      <td>0</td>\n",
       "      <td>0</td>\n",
       "      <td>0</td>\n",
       "      <td>0</td>\n",
       "      <td>-1</td>\n",
       "      <td>...</td>\n",
       "      <td>0</td>\n",
       "      <td>0</td>\n",
       "      <td>1</td>\n",
       "      <td>0</td>\n",
       "      <td>0</td>\n",
       "      <td>0</td>\n",
       "      <td>0</td>\n",
       "      <td>0</td>\n",
       "      <td>1</td>\n",
       "      <td>0</td>\n",
       "    </tr>\n",
       "    <tr>\n",
       "      <th>83588</th>\n",
       "      <td>85.0</td>\n",
       "      <td>0</td>\n",
       "      <td>981.3</td>\n",
       "      <td>9.0</td>\n",
       "      <td>0</td>\n",
       "      <td>0</td>\n",
       "      <td>1</td>\n",
       "      <td>6</td>\n",
       "      <td>3</td>\n",
       "      <td>3</td>\n",
       "      <td>...</td>\n",
       "      <td>0</td>\n",
       "      <td>0</td>\n",
       "      <td>1</td>\n",
       "      <td>0</td>\n",
       "      <td>0</td>\n",
       "      <td>0</td>\n",
       "      <td>0</td>\n",
       "      <td>0</td>\n",
       "      <td>1</td>\n",
       "      <td>0</td>\n",
       "    </tr>\n",
       "    <tr>\n",
       "      <th>83589</th>\n",
       "      <td>13.0</td>\n",
       "      <td>0</td>\n",
       "      <td>0.0</td>\n",
       "      <td>0.0</td>\n",
       "      <td>0</td>\n",
       "      <td>0</td>\n",
       "      <td>0</td>\n",
       "      <td>0</td>\n",
       "      <td>0</td>\n",
       "      <td>-1</td>\n",
       "      <td>...</td>\n",
       "      <td>0</td>\n",
       "      <td>0</td>\n",
       "      <td>1</td>\n",
       "      <td>0</td>\n",
       "      <td>0</td>\n",
       "      <td>0</td>\n",
       "      <td>0</td>\n",
       "      <td>0</td>\n",
       "      <td>1</td>\n",
       "      <td>0</td>\n",
       "    </tr>\n",
       "  </tbody>\n",
       "</table>\n",
       "<p>79743 rows × 222 columns</p>\n",
       "</div>"
      ],
      "text/plain": [
       "        Age  DaysSinceCreation  LodgingRevenue  OtherRevenue  \\\n",
       "0      51.0                150           371.0         105.3   \n",
       "2      31.0               1095             0.0           0.0   \n",
       "3      60.0               1095           240.0          60.0   \n",
       "4      51.0               1095             0.0           0.0   \n",
       "5      54.0               1095           230.0          24.0   \n",
       "...     ...                ...             ...           ...   \n",
       "83585  54.0                  0             0.0           0.0   \n",
       "83586  47.0                  0           327.1         277.5   \n",
       "83587  53.0                  0             0.0           0.0   \n",
       "83588  85.0                  0           981.3           9.0   \n",
       "83589  13.0                  0             0.0           0.0   \n",
       "\n",
       "       BookingsCanceled  BookingsNoShowed  BookingsCheckedIn  PersonsNights  \\\n",
       "0                     1                 0                  3              8   \n",
       "2                     0                 0                  0              0   \n",
       "3                     0                 0                  1             10   \n",
       "4                     0                 0                  0              0   \n",
       "5                     0                 0                  1              4   \n",
       "...                 ...               ...                ...            ...   \n",
       "83585                 0                 0                  0              0   \n",
       "83586                 0                 0                  1              6   \n",
       "83587                 0                 0                  0              0   \n",
       "83588                 0                 0                  1              6   \n",
       "83589                 0                 0                  0              0   \n",
       "\n",
       "       RoomNights  DaysSinceLastStay  ...  DistributionChannel_Direct  \\\n",
       "0               5                151  ...                           0   \n",
       "2               0                 -1  ...                           0   \n",
       "3               5               1100  ...                           0   \n",
       "4               0                 -1  ...                           0   \n",
       "5               2               1097  ...                           0   \n",
       "...           ...                ...  ...                         ...   \n",
       "83585           0                 -1  ...                           0   \n",
       "83586           3                  3  ...                           0   \n",
       "83587           0                 -1  ...                           0   \n",
       "83588           3                  3  ...                           0   \n",
       "83589           0                 -1  ...                           0   \n",
       "\n",
       "       DistributionChannel_Electronic Distribution  \\\n",
       "0                                                0   \n",
       "2                                                0   \n",
       "3                                                0   \n",
       "4                                                0   \n",
       "5                                                0   \n",
       "...                                            ...   \n",
       "83585                                            0   \n",
       "83586                                            0   \n",
       "83587                                            0   \n",
       "83588                                            0   \n",
       "83589                                            0   \n",
       "\n",
       "       DistributionChannel_Travel Agent/Operator  MarketSegment_Aviation  \\\n",
       "0                                              0                       0   \n",
       "2                                              1                       0   \n",
       "3                                              1                       0   \n",
       "4                                              1                       0   \n",
       "5                                              1                       0   \n",
       "...                                          ...                     ...   \n",
       "83585                                          1                       0   \n",
       "83586                                          1                       0   \n",
       "83587                                          1                       0   \n",
       "83588                                          1                       0   \n",
       "83589                                          1                       0   \n",
       "\n",
       "       MarketSegment_Complementary  MarketSegment_Corporate  \\\n",
       "0                                0                        1   \n",
       "2                                0                        0   \n",
       "3                                0                        0   \n",
       "4                                0                        0   \n",
       "5                                0                        0   \n",
       "...                            ...                      ...   \n",
       "83585                            0                        0   \n",
       "83586                            0                        0   \n",
       "83587                            0                        0   \n",
       "83588                            0                        0   \n",
       "83589                            0                        0   \n",
       "\n",
       "       MarketSegment_Direct  MarketSegment_Groups  MarketSegment_Other  \\\n",
       "0                         0                     0                    0   \n",
       "2                         0                     0                    0   \n",
       "3                         0                     0                    0   \n",
       "4                         0                     0                    0   \n",
       "5                         0                     0                    1   \n",
       "...                     ...                   ...                  ...   \n",
       "83585                     0                     0                    1   \n",
       "83586                     0                     0                    1   \n",
       "83587                     0                     0                    1   \n",
       "83588                     0                     0                    1   \n",
       "83589                     0                     0                    1   \n",
       "\n",
       "       MarketSegment_Travel Agent/Operator  \n",
       "0                                        0  \n",
       "2                                        1  \n",
       "3                                        1  \n",
       "4                                        1  \n",
       "5                                        0  \n",
       "...                                    ...  \n",
       "83585                                    0  \n",
       "83586                                    0  \n",
       "83587                                    0  \n",
       "83588                                    0  \n",
       "83589                                    0  \n",
       "\n",
       "[79743 rows x 222 columns]"
      ]
     },
     "execution_count": 245,
     "metadata": {},
     "output_type": "execute_result"
    }
   ],
   "source": [
    "X_dummies"
   ]
  },
  {
   "cell_type": "code",
   "execution_count": 219,
   "id": "2b7f2936",
   "metadata": {},
   "outputs": [],
   "source": [
    "X_train, X_test, y_train, y_test = train_test_split(X_dummies, y)"
   ]
  },
  {
   "cell_type": "code",
   "execution_count": 220,
   "id": "c8451400",
   "metadata": {},
   "outputs": [
    {
     "data": {
      "text/plain": [
       "(59807, 213)"
      ]
     },
     "execution_count": 220,
     "metadata": {},
     "output_type": "execute_result"
    }
   ],
   "source": [
    "X_train.shape"
   ]
  },
  {
   "cell_type": "code",
   "execution_count": 223,
   "id": "ffc04e11",
   "metadata": {},
   "outputs": [
    {
     "data": {
      "text/plain": [
       "74355     0\n",
       "21750    66\n",
       "40898    12\n",
       "50326     0\n",
       "Name: AverageLeadTime, dtype: int64"
      ]
     },
     "execution_count": 223,
     "metadata": {},
     "output_type": "execute_result"
    }
   ],
   "source": [
    "y_test.iloc[1:5]"
   ]
  },
  {
   "cell_type": "code",
   "execution_count": 225,
   "id": "48da1cd0",
   "metadata": {},
   "outputs": [],
   "source": [
    "from sklearn.metrics import mean_squared_error as mse\n",
    "from sklearn.linear_model import LinearRegression"
   ]
  },
  {
   "cell_type": "code",
   "execution_count": 227,
   "id": "205186e5",
   "metadata": {},
   "outputs": [],
   "source": [
    "lr = LinearRegression()"
   ]
  },
  {
   "cell_type": "code",
   "execution_count": 229,
   "id": "fe977f54",
   "metadata": {},
   "outputs": [
    {
     "ename": "ValueError",
     "evalue": "could not convert string to float: 'Travel Agent/Operator'",
     "output_type": "error",
     "traceback": [
      "\u001b[0;31m---------------------------------------------------------------------------\u001b[0m",
      "\u001b[0;31mValueError\u001b[0m                                Traceback (most recent call last)",
      "Input \u001b[0;32mIn [229]\u001b[0m, in \u001b[0;36m<cell line: 1>\u001b[0;34m()\u001b[0m\n\u001b[0;32m----> 1\u001b[0m \u001b[43mlr\u001b[49m\u001b[38;5;241;43m.\u001b[39;49m\u001b[43mfit\u001b[49m\u001b[43m(\u001b[49m\u001b[43mX_train\u001b[49m\u001b[43m,\u001b[49m\u001b[43m \u001b[49m\u001b[43my_train\u001b[49m\u001b[43m)\u001b[49m\n",
      "File \u001b[0;32m~/miniconda3/envs/cohortes/lib/python3.10/site-packages/sklearn/linear_model/_base.py:684\u001b[0m, in \u001b[0;36mLinearRegression.fit\u001b[0;34m(self, X, y, sample_weight)\u001b[0m\n\u001b[1;32m    680\u001b[0m n_jobs_ \u001b[38;5;241m=\u001b[39m \u001b[38;5;28mself\u001b[39m\u001b[38;5;241m.\u001b[39mn_jobs\n\u001b[1;32m    682\u001b[0m accept_sparse \u001b[38;5;241m=\u001b[39m \u001b[38;5;28;01mFalse\u001b[39;00m \u001b[38;5;28;01mif\u001b[39;00m \u001b[38;5;28mself\u001b[39m\u001b[38;5;241m.\u001b[39mpositive \u001b[38;5;28;01melse\u001b[39;00m [\u001b[38;5;124m\"\u001b[39m\u001b[38;5;124mcsr\u001b[39m\u001b[38;5;124m\"\u001b[39m, \u001b[38;5;124m\"\u001b[39m\u001b[38;5;124mcsc\u001b[39m\u001b[38;5;124m\"\u001b[39m, \u001b[38;5;124m\"\u001b[39m\u001b[38;5;124mcoo\u001b[39m\u001b[38;5;124m\"\u001b[39m]\n\u001b[0;32m--> 684\u001b[0m X, y \u001b[38;5;241m=\u001b[39m \u001b[38;5;28;43mself\u001b[39;49m\u001b[38;5;241;43m.\u001b[39;49m\u001b[43m_validate_data\u001b[49m\u001b[43m(\u001b[49m\n\u001b[1;32m    685\u001b[0m \u001b[43m    \u001b[49m\u001b[43mX\u001b[49m\u001b[43m,\u001b[49m\u001b[43m \u001b[49m\u001b[43my\u001b[49m\u001b[43m,\u001b[49m\u001b[43m \u001b[49m\u001b[43maccept_sparse\u001b[49m\u001b[38;5;241;43m=\u001b[39;49m\u001b[43maccept_sparse\u001b[49m\u001b[43m,\u001b[49m\u001b[43m \u001b[49m\u001b[43my_numeric\u001b[49m\u001b[38;5;241;43m=\u001b[39;49m\u001b[38;5;28;43;01mTrue\u001b[39;49;00m\u001b[43m,\u001b[49m\u001b[43m \u001b[49m\u001b[43mmulti_output\u001b[49m\u001b[38;5;241;43m=\u001b[39;49m\u001b[38;5;28;43;01mTrue\u001b[39;49;00m\n\u001b[1;32m    686\u001b[0m \u001b[43m\u001b[49m\u001b[43m)\u001b[49m\n\u001b[1;32m    688\u001b[0m sample_weight \u001b[38;5;241m=\u001b[39m _check_sample_weight(\n\u001b[1;32m    689\u001b[0m     sample_weight, X, dtype\u001b[38;5;241m=\u001b[39mX\u001b[38;5;241m.\u001b[39mdtype, only_non_negative\u001b[38;5;241m=\u001b[39m\u001b[38;5;28;01mTrue\u001b[39;00m\n\u001b[1;32m    690\u001b[0m )\n\u001b[1;32m    692\u001b[0m X, y, X_offset, y_offset, X_scale \u001b[38;5;241m=\u001b[39m _preprocess_data(\n\u001b[1;32m    693\u001b[0m     X,\n\u001b[1;32m    694\u001b[0m     y,\n\u001b[0;32m   (...)\u001b[0m\n\u001b[1;32m    698\u001b[0m     sample_weight\u001b[38;5;241m=\u001b[39msample_weight,\n\u001b[1;32m    699\u001b[0m )\n",
      "File \u001b[0;32m~/miniconda3/envs/cohortes/lib/python3.10/site-packages/sklearn/base.py:596\u001b[0m, in \u001b[0;36mBaseEstimator._validate_data\u001b[0;34m(self, X, y, reset, validate_separately, **check_params)\u001b[0m\n\u001b[1;32m    594\u001b[0m         y \u001b[38;5;241m=\u001b[39m check_array(y, input_name\u001b[38;5;241m=\u001b[39m\u001b[38;5;124m\"\u001b[39m\u001b[38;5;124my\u001b[39m\u001b[38;5;124m\"\u001b[39m, \u001b[38;5;241m*\u001b[39m\u001b[38;5;241m*\u001b[39mcheck_y_params)\n\u001b[1;32m    595\u001b[0m     \u001b[38;5;28;01melse\u001b[39;00m:\n\u001b[0;32m--> 596\u001b[0m         X, y \u001b[38;5;241m=\u001b[39m \u001b[43mcheck_X_y\u001b[49m\u001b[43m(\u001b[49m\u001b[43mX\u001b[49m\u001b[43m,\u001b[49m\u001b[43m \u001b[49m\u001b[43my\u001b[49m\u001b[43m,\u001b[49m\u001b[43m \u001b[49m\u001b[38;5;241;43m*\u001b[39;49m\u001b[38;5;241;43m*\u001b[39;49m\u001b[43mcheck_params\u001b[49m\u001b[43m)\u001b[49m\n\u001b[1;32m    597\u001b[0m     out \u001b[38;5;241m=\u001b[39m X, y\n\u001b[1;32m    599\u001b[0m \u001b[38;5;28;01mif\u001b[39;00m \u001b[38;5;129;01mnot\u001b[39;00m no_val_X \u001b[38;5;129;01mand\u001b[39;00m check_params\u001b[38;5;241m.\u001b[39mget(\u001b[38;5;124m\"\u001b[39m\u001b[38;5;124mensure_2d\u001b[39m\u001b[38;5;124m\"\u001b[39m, \u001b[38;5;28;01mTrue\u001b[39;00m):\n",
      "File \u001b[0;32m~/miniconda3/envs/cohortes/lib/python3.10/site-packages/sklearn/utils/validation.py:1074\u001b[0m, in \u001b[0;36mcheck_X_y\u001b[0;34m(X, y, accept_sparse, accept_large_sparse, dtype, order, copy, force_all_finite, ensure_2d, allow_nd, multi_output, ensure_min_samples, ensure_min_features, y_numeric, estimator)\u001b[0m\n\u001b[1;32m   1069\u001b[0m         estimator_name \u001b[38;5;241m=\u001b[39m _check_estimator_name(estimator)\n\u001b[1;32m   1070\u001b[0m     \u001b[38;5;28;01mraise\u001b[39;00m \u001b[38;5;167;01mValueError\u001b[39;00m(\n\u001b[1;32m   1071\u001b[0m         \u001b[38;5;124mf\u001b[39m\u001b[38;5;124m\"\u001b[39m\u001b[38;5;132;01m{\u001b[39;00mestimator_name\u001b[38;5;132;01m}\u001b[39;00m\u001b[38;5;124m requires y to be passed, but the target y is None\u001b[39m\u001b[38;5;124m\"\u001b[39m\n\u001b[1;32m   1072\u001b[0m     )\n\u001b[0;32m-> 1074\u001b[0m X \u001b[38;5;241m=\u001b[39m \u001b[43mcheck_array\u001b[49m\u001b[43m(\u001b[49m\n\u001b[1;32m   1075\u001b[0m \u001b[43m    \u001b[49m\u001b[43mX\u001b[49m\u001b[43m,\u001b[49m\n\u001b[1;32m   1076\u001b[0m \u001b[43m    \u001b[49m\u001b[43maccept_sparse\u001b[49m\u001b[38;5;241;43m=\u001b[39;49m\u001b[43maccept_sparse\u001b[49m\u001b[43m,\u001b[49m\n\u001b[1;32m   1077\u001b[0m \u001b[43m    \u001b[49m\u001b[43maccept_large_sparse\u001b[49m\u001b[38;5;241;43m=\u001b[39;49m\u001b[43maccept_large_sparse\u001b[49m\u001b[43m,\u001b[49m\n\u001b[1;32m   1078\u001b[0m \u001b[43m    \u001b[49m\u001b[43mdtype\u001b[49m\u001b[38;5;241;43m=\u001b[39;49m\u001b[43mdtype\u001b[49m\u001b[43m,\u001b[49m\n\u001b[1;32m   1079\u001b[0m \u001b[43m    \u001b[49m\u001b[43morder\u001b[49m\u001b[38;5;241;43m=\u001b[39;49m\u001b[43morder\u001b[49m\u001b[43m,\u001b[49m\n\u001b[1;32m   1080\u001b[0m \u001b[43m    \u001b[49m\u001b[43mcopy\u001b[49m\u001b[38;5;241;43m=\u001b[39;49m\u001b[43mcopy\u001b[49m\u001b[43m,\u001b[49m\n\u001b[1;32m   1081\u001b[0m \u001b[43m    \u001b[49m\u001b[43mforce_all_finite\u001b[49m\u001b[38;5;241;43m=\u001b[39;49m\u001b[43mforce_all_finite\u001b[49m\u001b[43m,\u001b[49m\n\u001b[1;32m   1082\u001b[0m \u001b[43m    \u001b[49m\u001b[43mensure_2d\u001b[49m\u001b[38;5;241;43m=\u001b[39;49m\u001b[43mensure_2d\u001b[49m\u001b[43m,\u001b[49m\n\u001b[1;32m   1083\u001b[0m \u001b[43m    \u001b[49m\u001b[43mallow_nd\u001b[49m\u001b[38;5;241;43m=\u001b[39;49m\u001b[43mallow_nd\u001b[49m\u001b[43m,\u001b[49m\n\u001b[1;32m   1084\u001b[0m \u001b[43m    \u001b[49m\u001b[43mensure_min_samples\u001b[49m\u001b[38;5;241;43m=\u001b[39;49m\u001b[43mensure_min_samples\u001b[49m\u001b[43m,\u001b[49m\n\u001b[1;32m   1085\u001b[0m \u001b[43m    \u001b[49m\u001b[43mensure_min_features\u001b[49m\u001b[38;5;241;43m=\u001b[39;49m\u001b[43mensure_min_features\u001b[49m\u001b[43m,\u001b[49m\n\u001b[1;32m   1086\u001b[0m \u001b[43m    \u001b[49m\u001b[43mestimator\u001b[49m\u001b[38;5;241;43m=\u001b[39;49m\u001b[43mestimator\u001b[49m\u001b[43m,\u001b[49m\n\u001b[1;32m   1087\u001b[0m \u001b[43m    \u001b[49m\u001b[43minput_name\u001b[49m\u001b[38;5;241;43m=\u001b[39;49m\u001b[38;5;124;43m\"\u001b[39;49m\u001b[38;5;124;43mX\u001b[39;49m\u001b[38;5;124;43m\"\u001b[39;49m\u001b[43m,\u001b[49m\n\u001b[1;32m   1088\u001b[0m \u001b[43m\u001b[49m\u001b[43m)\u001b[49m\n\u001b[1;32m   1090\u001b[0m y \u001b[38;5;241m=\u001b[39m _check_y(y, multi_output\u001b[38;5;241m=\u001b[39mmulti_output, y_numeric\u001b[38;5;241m=\u001b[39my_numeric, estimator\u001b[38;5;241m=\u001b[39mestimator)\n\u001b[1;32m   1092\u001b[0m check_consistent_length(X, y)\n",
      "File \u001b[0;32m~/miniconda3/envs/cohortes/lib/python3.10/site-packages/sklearn/utils/validation.py:856\u001b[0m, in \u001b[0;36mcheck_array\u001b[0;34m(array, accept_sparse, accept_large_sparse, dtype, order, copy, force_all_finite, ensure_2d, allow_nd, ensure_min_samples, ensure_min_features, estimator, input_name)\u001b[0m\n\u001b[1;32m    854\u001b[0m         array \u001b[38;5;241m=\u001b[39m array\u001b[38;5;241m.\u001b[39mastype(dtype, casting\u001b[38;5;241m=\u001b[39m\u001b[38;5;124m\"\u001b[39m\u001b[38;5;124munsafe\u001b[39m\u001b[38;5;124m\"\u001b[39m, copy\u001b[38;5;241m=\u001b[39m\u001b[38;5;28;01mFalse\u001b[39;00m)\n\u001b[1;32m    855\u001b[0m     \u001b[38;5;28;01melse\u001b[39;00m:\n\u001b[0;32m--> 856\u001b[0m         array \u001b[38;5;241m=\u001b[39m \u001b[43mnp\u001b[49m\u001b[38;5;241;43m.\u001b[39;49m\u001b[43masarray\u001b[49m\u001b[43m(\u001b[49m\u001b[43marray\u001b[49m\u001b[43m,\u001b[49m\u001b[43m \u001b[49m\u001b[43morder\u001b[49m\u001b[38;5;241;43m=\u001b[39;49m\u001b[43morder\u001b[49m\u001b[43m,\u001b[49m\u001b[43m \u001b[49m\u001b[43mdtype\u001b[49m\u001b[38;5;241;43m=\u001b[39;49m\u001b[43mdtype\u001b[49m\u001b[43m)\u001b[49m\n\u001b[1;32m    857\u001b[0m \u001b[38;5;28;01mexcept\u001b[39;00m ComplexWarning \u001b[38;5;28;01mas\u001b[39;00m complex_warning:\n\u001b[1;32m    858\u001b[0m     \u001b[38;5;28;01mraise\u001b[39;00m \u001b[38;5;167;01mValueError\u001b[39;00m(\n\u001b[1;32m    859\u001b[0m         \u001b[38;5;124m\"\u001b[39m\u001b[38;5;124mComplex data not supported\u001b[39m\u001b[38;5;130;01m\\n\u001b[39;00m\u001b[38;5;132;01m{}\u001b[39;00m\u001b[38;5;130;01m\\n\u001b[39;00m\u001b[38;5;124m\"\u001b[39m\u001b[38;5;241m.\u001b[39mformat(array)\n\u001b[1;32m    860\u001b[0m     ) \u001b[38;5;28;01mfrom\u001b[39;00m \u001b[38;5;21;01mcomplex_warning\u001b[39;00m\n",
      "File \u001b[0;32m~/miniconda3/envs/cohortes/lib/python3.10/site-packages/pandas/core/generic.py:2070\u001b[0m, in \u001b[0;36mNDFrame.__array__\u001b[0;34m(self, dtype)\u001b[0m\n\u001b[1;32m   2069\u001b[0m \u001b[38;5;28;01mdef\u001b[39;00m \u001b[38;5;21m__array__\u001b[39m(\u001b[38;5;28mself\u001b[39m, dtype: npt\u001b[38;5;241m.\u001b[39mDTypeLike \u001b[38;5;241m|\u001b[39m \u001b[38;5;28;01mNone\u001b[39;00m \u001b[38;5;241m=\u001b[39m \u001b[38;5;28;01mNone\u001b[39;00m) \u001b[38;5;241m-\u001b[39m\u001b[38;5;241m>\u001b[39m np\u001b[38;5;241m.\u001b[39mndarray:\n\u001b[0;32m-> 2070\u001b[0m     \u001b[38;5;28;01mreturn\u001b[39;00m \u001b[43mnp\u001b[49m\u001b[38;5;241;43m.\u001b[39;49m\u001b[43masarray\u001b[49m\u001b[43m(\u001b[49m\u001b[38;5;28;43mself\u001b[39;49m\u001b[38;5;241;43m.\u001b[39;49m\u001b[43m_values\u001b[49m\u001b[43m,\u001b[49m\u001b[43m \u001b[49m\u001b[43mdtype\u001b[49m\u001b[38;5;241;43m=\u001b[39;49m\u001b[43mdtype\u001b[49m\u001b[43m)\u001b[49m\n",
      "\u001b[0;31mValueError\u001b[0m: could not convert string to float: 'Travel Agent/Operator'"
     ]
    }
   ],
   "source": [
    "lr.fit(X_train, y_train)"
   ]
  },
  {
   "cell_type": "code",
   "execution_count": null,
   "id": "835a9e83",
   "metadata": {},
   "outputs": [],
   "source": []
  },
  {
   "cell_type": "code",
   "execution_count": null,
   "id": "7d09db74",
   "metadata": {},
   "outputs": [],
   "source": []
  },
  {
   "cell_type": "markdown",
   "id": "1af7b390",
   "metadata": {},
   "source": [
    "# <b>4 <span style='color:#fff700ba'>|</span> KMeans</b>"
   ]
  },
  {
   "cell_type": "code",
   "execution_count": null,
   "id": "30492ca6",
   "metadata": {},
   "outputs": [],
   "source": []
  },
  {
   "cell_type": "code",
   "execution_count": null,
   "id": "b99f662d",
   "metadata": {},
   "outputs": [],
   "source": []
  },
  {
   "cell_type": "code",
   "execution_count": null,
   "id": "803040ae",
   "metadata": {},
   "outputs": [],
   "source": []
  },
  {
   "cell_type": "code",
   "execution_count": null,
   "id": "c491682e",
   "metadata": {},
   "outputs": [],
   "source": []
  },
  {
   "cell_type": "code",
   "execution_count": null,
   "id": "34e00c49",
   "metadata": {},
   "outputs": [],
   "source": []
  },
  {
   "cell_type": "code",
   "execution_count": null,
   "id": "98abeec0",
   "metadata": {},
   "outputs": [],
   "source": []
  },
  {
   "cell_type": "code",
   "execution_count": null,
   "id": "c7e37e72",
   "metadata": {},
   "outputs": [],
   "source": []
  },
  {
   "cell_type": "code",
   "execution_count": null,
   "id": "fe6fd774",
   "metadata": {},
   "outputs": [],
   "source": []
  },
  {
   "cell_type": "code",
   "execution_count": null,
   "id": "170a4ce0",
   "metadata": {},
   "outputs": [],
   "source": []
  },
  {
   "cell_type": "code",
   "execution_count": null,
   "id": "34728afd",
   "metadata": {},
   "outputs": [],
   "source": []
  },
  {
   "cell_type": "code",
   "execution_count": null,
   "id": "5d7a3c50",
   "metadata": {},
   "outputs": [],
   "source": []
  }
 ],
 "metadata": {
  "kernelspec": {
   "display_name": "Python 3 (ipykernel)",
   "language": "python",
   "name": "python3"
  },
  "language_info": {
   "codemirror_mode": {
    "name": "ipython",
    "version": 3
   },
   "file_extension": ".py",
   "mimetype": "text/x-python",
   "name": "python",
   "nbconvert_exporter": "python",
   "pygments_lexer": "ipython3",
   "version": "3.10.4"
  }
 },
 "nbformat": 4,
 "nbformat_minor": 5
}
